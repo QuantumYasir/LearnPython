{
 "cells": [
  {
   "cell_type": "markdown",
   "id": "27457d8a-a22f-4181-bbb3-28aba1572dfc",
   "metadata": {},
   "source": [
    "### Taking input from User"
   ]
  },
  {
   "cell_type": "code",
   "execution_count": null,
   "id": "77dc866a-a291-4517-9083-6af20673f36e",
   "metadata": {},
   "outputs": [],
   "source": [
    "a=15\n",
    "b=33\n",
    "print(\"The value of\", a,\"+\" ,\"is:\" ,a+b)\n",
    "print(\"The value of\" ,a,\"-\"  ,\"is:\",a-b)\n",
    "print(\"The value of\" ,a,\"/\" ,\"is:\" ,a/b)\n",
    "print(\"The value of\" ,a,\"*\",\"is:\" ,a*b)\n",
    "print(\"The value of\" ,a,\"//\",\"is:\" ,a//b)"
   ]
  },
  {
   "cell_type": "code",
   "execution_count": 9,
   "id": "1c5c8c9d-25d1-4f8b-bf42-ec00892ecf17",
   "metadata": {},
   "outputs": [
    {
     "name": "stdout",
     "output_type": "stream",
     "text": [
      "The value of a+b is: 60\n"
     ]
    }
   ],
   "source": [
    "a=15\n",
    "b=45\n",
    "print(\"The value of a+b\" ,\"is:\",a+b)"
   ]
  },
  {
   "cell_type": "code",
   "execution_count": 12,
   "id": "25b012ee-5c5c-47e2-b76d-5ffb10b7af2f",
   "metadata": {},
   "outputs": [
    {
     "name": "stdout",
     "output_type": "stream",
     "text": [
      "The value of a+b is: 60\n",
      "The value of a-b is: -30\n",
      "The value of a*b is: 675\n",
      "The value of a/b is: 0.3333333333333333\n",
      "The value of a//b is: 0\n",
      "The value of a%b is: 15\n"
     ]
    }
   ],
   "source": [
    "print(\"The value of a+b\",\"is:\",a+b)\n",
    "print(\"The value of a-b\",\"is:\",a-b)\n",
    "print(\"The value of a*b\",\"is:\",a*b)\n",
    "print(\"The value of a/b\",\"is:\",a/b)\n",
    "print(\"The value of a//b\",\"is:\",a//b)\n",
    "print(\"The value of a%b\",\"is:\",a%b)"
   ]
  },
  {
   "cell_type": "code",
   "execution_count": 17,
   "id": "0866269b-fbee-4732-bb34-eeec249ecf44",
   "metadata": {},
   "outputs": [
    {
     "name": "stdin",
     "output_type": "stream",
     "text": [
      "Enter first num: 66\n",
      "Enter second num: 78\n"
     ]
    },
    {
     "name": "stdout",
     "output_type": "stream",
     "text": [
      "144\n",
      "-12\n"
     ]
    }
   ],
   "source": [
    "a= input(\"Enter first num:\")\n",
    "b= input(\"Enter second num:\")\n",
    "print(int(a)+int(b))\n",
    "print(int(a)-int(b))"
   ]
  },
  {
   "cell_type": "code",
   "execution_count": 11,
   "id": "15a449da-1258-40b8-a939-764d2c496b17",
   "metadata": {},
   "outputs": [
    {
     "name": "stdin",
     "output_type": "stream",
     "text": [
      "Enter name: dfsdf\n",
      "Enter L-name: dsfa\n"
     ]
    },
    {
     "name": "stdout",
     "output_type": "stream",
     "text": [
      "dfsdfdsfa\n"
     ]
    }
   ],
   "source": [
    "a =input(\"Enter name:\")\n",
    "b =input(\"Enter L-name:\")\n",
    "print(a+ b)"
   ]
  },
  {
   "cell_type": "code",
   "execution_count": null,
   "id": "d777280a-be81-44f4-9e24-565d428dab41",
   "metadata": {},
   "outputs": [],
   "source": []
  }
 ],
 "metadata": {
  "kernelspec": {
   "display_name": "Python 3 (ipykernel)",
   "language": "python",
   "name": "python3"
  },
  "language_info": {
   "codemirror_mode": {
    "name": "ipython",
    "version": 3
   },
   "file_extension": ".py",
   "mimetype": "text/x-python",
   "name": "python",
   "nbconvert_exporter": "python",
   "pygments_lexer": "ipython3",
   "version": "3.11.7"
  }
 },
 "nbformat": 4,
 "nbformat_minor": 5
}
