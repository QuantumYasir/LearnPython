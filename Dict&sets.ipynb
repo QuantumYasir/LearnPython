{
 "cells": [
  {
   "cell_type": "markdown",
   "id": "7e99ce56-7168-4503-bb5c-25cee0632271",
   "metadata": {},
   "source": [
    "# Dict is mutable "
   ]
  },
  {
   "cell_type": "code",
   "execution_count": 5,
   "id": "77faa6e5-4cd0-4fcd-8aea-19d85c1cb4c6",
   "metadata": {},
   "outputs": [],
   "source": [
    "info={} #empty Dictionary"
   ]
  },
  {
   "cell_type": "code",
   "execution_count": 7,
   "id": "5d990e73-b8cc-4378-89b1-203e89b62275",
   "metadata": {},
   "outputs": [
    {
     "name": "stdout",
     "output_type": "stream",
     "text": [
      "{'Name': 'Yasir Ahmed', 'Semester': 5, 'ID': 5}\n"
     ]
    }
   ],
   "source": [
    "info={\"Name\":\"Yasir Ahmed\",\"Semester\":5,\"ID\":5}\n",
    "print(info)"
   ]
  },
  {
   "cell_type": "code",
   "execution_count": 11,
   "id": "5c8afbb1-fa50-4752-8de2-2075873d82b0",
   "metadata": {},
   "outputs": [
    {
     "name": "stdout",
     "output_type": "stream",
     "text": [
      "5\n"
     ]
    }
   ],
   "source": [
    "print(info[\"Semester\"])"
   ]
  },
  {
   "cell_type": "code",
   "execution_count": 12,
   "id": "46ac77ce-9f26-4946-91b5-c75ada29822f",
   "metadata": {},
   "outputs": [
    {
     "name": "stdout",
     "output_type": "stream",
     "text": [
      "Yasir Ahmed\n"
     ]
    }
   ],
   "source": [
    "print(info[\"Name\"])"
   ]
  },
  {
   "cell_type": "markdown",
   "id": "7a98cfe5-b1c1-463f-9e4e-539eba0f59c9",
   "metadata": {},
   "source": [
    "### for changing in dict"
   ]
  },
  {
   "cell_type": "code",
   "execution_count": 13,
   "id": "8868f5d6-1b4b-4271-9b3f-31b137e277e8",
   "metadata": {},
   "outputs": [],
   "source": [
    "info[\"Name\"]=\"Saqib Saleem\""
   ]
  },
  {
   "cell_type": "code",
   "execution_count": 14,
   "id": "52bf7444-bf9d-4f7f-9f29-301bccf5f343",
   "metadata": {},
   "outputs": [
    {
     "name": "stdout",
     "output_type": "stream",
     "text": [
      "{'Name': 'Saqib Saleem', 'Semester': 5, 'ID': 5}\n"
     ]
    }
   ],
   "source": [
    "print(info)"
   ]
  },
  {
   "cell_type": "code",
   "execution_count": 17,
   "id": "db42cd10-e5cc-4a0c-bbb9-a58191b1ce79",
   "metadata": {},
   "outputs": [],
   "source": [
    "info[\"Semester\"]=6\n",
    "info[\"ID\"]=44"
   ]
  },
  {
   "cell_type": "code",
   "execution_count": 18,
   "id": "d6bc4551-a385-43b1-8af6-098b5604d679",
   "metadata": {},
   "outputs": [
    {
     "name": "stdout",
     "output_type": "stream",
     "text": [
      "{'Name': 'Saqib Saleem', 'Semester': 6, 'ID': 44}\n"
     ]
    }
   ],
   "source": [
    "print(info)"
   ]
  },
  {
   "cell_type": "markdown",
   "id": "5cf47a4c-12f9-41c3-81d1-c2d196038301",
   "metadata": {},
   "source": [
    "### can assign other key and their values"
   ]
  },
  {
   "cell_type": "code",
   "execution_count": 19,
   "id": "a45d80af-81c4-4d99-a160-c91f1c3c2d20",
   "metadata": {},
   "outputs": [],
   "source": [
    "info[\"Classmate\"]=\"Yasir Ahmed\""
   ]
  },
  {
   "cell_type": "code",
   "execution_count": 20,
   "id": "2ede0463-b4e3-4ac5-866e-ca1f07ecfe41",
   "metadata": {},
   "outputs": [
    {
     "name": "stdout",
     "output_type": "stream",
     "text": [
      "{'Name': 'Saqib Saleem', 'Semester': 6, 'ID': 44, 'Classmate': 'Yasir Ahmed'}\n"
     ]
    }
   ],
   "source": [
    "print(info)"
   ]
  },
  {
   "cell_type": "markdown",
   "id": "cbefe277-fc43-453a-aca3-236c2dbc7563",
   "metadata": {},
   "source": [
    "## Nested dict"
   ]
  },
  {
   "cell_type": "code",
   "execution_count": 21,
   "id": "ff2786e1-b394-462d-aeb0-ebee67ed015a",
   "metadata": {},
   "outputs": [
    {
     "name": "stdout",
     "output_type": "stream",
     "text": [
      "{'name': 'Yasir', 'subjects': {'HRM': 70, 'SE': 70, 'OR': 85, 'DSA': 70, 'DS': 70}}\n"
     ]
    }
   ],
   "source": [
    "student={\"name\":\"Yasir\",\"subjects\":{\"HRM\":70,\"SE\":70,\"OR\":85,\"DSA\":70,\"DS\":70}}\n",
    "print(student)"
   ]
  },
  {
   "cell_type": "code",
   "execution_count": 23,
   "id": "8a33a5ab-cfde-432b-bd4f-b1dec92d19ad",
   "metadata": {},
   "outputs": [
    {
     "name": "stdout",
     "output_type": "stream",
     "text": [
      "{'name': 'Yasir', 'subjects': {'HRM': 70, 'SE': 70, 'OR': 85, 'DSA': 70, 'DS': 70}, 'Father name': 'Nisar Ahmed', 'ID': 5}\n"
     ]
    }
   ],
   "source": [
    "student={\"name\":\"Yasir\",\"subjects\":{\"HRM\":70,\"SE\":70,\"OR\":85,\"DSA\":70,\"DS\":70},\"Father name\":\"Nisar Ahmed\",\"ID\":5}\n",
    "print(student)"
   ]
  },
  {
   "cell_type": "code",
   "execution_count": 24,
   "id": "30e128f6-c08a-4d30-83e1-9131d72701cd",
   "metadata": {},
   "outputs": [
    {
     "name": "stdout",
     "output_type": "stream",
     "text": [
      "{'HRM': 70, 'SE': 70, 'OR': 85, 'DSA': 70, 'DS': 70}\n"
     ]
    }
   ],
   "source": [
    "print(student[\"subjects\"])"
   ]
  },
  {
   "cell_type": "code",
   "execution_count": 25,
   "id": "64f3c7e7-a4fa-49ea-83d5-6d09c9ba8b6a",
   "metadata": {},
   "outputs": [
    {
     "name": "stdout",
     "output_type": "stream",
     "text": [
      "Yasir\n"
     ]
    }
   ],
   "source": [
    "print(student[\"name\"])"
   ]
  },
  {
   "cell_type": "code",
   "execution_count": 26,
   "id": "a78fc172-c551-42e1-85bb-a39e4939fd53",
   "metadata": {},
   "outputs": [
    {
     "name": "stdout",
     "output_type": "stream",
     "text": [
      "85\n"
     ]
    }
   ],
   "source": [
    "print(student[\"subjects\"][\"OR\"])"
   ]
  },
  {
   "cell_type": "markdown",
   "id": "fe3bb8b1-8b46-476c-90c0-56c33eb696e2",
   "metadata": {},
   "source": [
    "### Method"
   ]
  },
  {
   "cell_type": "code",
   "execution_count": 32,
   "id": "322c3bca-9d8e-497e-b95d-812fcf467d2c",
   "metadata": {},
   "outputs": [
    {
     "name": "stdout",
     "output_type": "stream",
     "text": [
      "dict_keys(['name', 'subjects', 'Father name', 'ID'])\n"
     ]
    }
   ],
   "source": [
    "#keys\n",
    "print(student.keys())"
   ]
  },
  {
   "cell_type": "code",
   "execution_count": 33,
   "id": "15ee9e78-cd21-40fc-8d27-67a1c9549118",
   "metadata": {},
   "outputs": [
    {
     "name": "stdout",
     "output_type": "stream",
     "text": [
      "['name', 'subjects', 'Father name', 'ID']\n"
     ]
    }
   ],
   "source": [
    "#typecasting in dict\n",
    "print(list(student.keys()))"
   ]
  },
  {
   "cell_type": "code",
   "execution_count": 37,
   "id": "92aa06e3-0638-427b-ae9c-d9bab1c4e9ea",
   "metadata": {},
   "outputs": [
    {
     "name": "stdout",
     "output_type": "stream",
     "text": [
      "['Yasir', {'HRM': 70, 'SE': 70, 'OR': 85, 'DSA': 70, 'DS': 70}, 'Nisar Ahmed', 5]\n"
     ]
    }
   ],
   "source": [
    "#values\n",
    "print(list(student.values()))"
   ]
  },
  {
   "cell_type": "code",
   "execution_count": 36,
   "id": "f0f9db69-4b30-4716-a9cc-ae69677249d3",
   "metadata": {},
   "outputs": [
    {
     "name": "stdout",
     "output_type": "stream",
     "text": [
      "4\n"
     ]
    }
   ],
   "source": [
    "#values\n",
    "print(len(list(student.values())))"
   ]
  },
  {
   "cell_type": "code",
   "execution_count": 38,
   "id": "04fd584b-4165-4b45-ab96-506b5e8aaaa0",
   "metadata": {},
   "outputs": [
    {
     "name": "stdout",
     "output_type": "stream",
     "text": [
      "dict_items([('name', 'Yasir'), ('subjects', {'HRM': 70, 'SE': 70, 'OR': 85, 'DSA': 70, 'DS': 70}), ('Father name', 'Nisar Ahmed'), ('ID', 5)])\n"
     ]
    }
   ],
   "source": [
    "#items returns all key and their values as a tuple\n",
    "print(student.items())"
   ]
  },
  {
   "cell_type": "code",
   "execution_count": 39,
   "id": "e0bcb74b-1ac1-48b5-ba46-59fb00bc87c8",
   "metadata": {},
   "outputs": [
    {
     "name": "stdout",
     "output_type": "stream",
     "text": [
      "<class 'dict'>\n"
     ]
    }
   ],
   "source": [
    "print(type(student))"
   ]
  },
  {
   "cell_type": "code",
   "execution_count": 40,
   "id": "4761e070-2bb8-4cd9-b986-756b57330626",
   "metadata": {},
   "outputs": [
    {
     "name": "stdout",
     "output_type": "stream",
     "text": [
      "['name', 'subjects', 'Father name', 'ID']\n"
     ]
    }
   ],
   "source": [
    "print(list(student))"
   ]
  },
  {
   "cell_type": "code",
   "execution_count": 42,
   "id": "64212b30-22bf-41e2-ac5c-ef0b0a9544af",
   "metadata": {},
   "outputs": [
    {
     "name": "stdout",
     "output_type": "stream",
     "text": [
      "('name', 'Yasir')\n"
     ]
    }
   ],
   "source": [
    "pairs=list(student.items())\n",
    "print(pairs[0])"
   ]
  },
  {
   "cell_type": "code",
   "execution_count": 43,
   "id": "778a94a4-772b-4484-bc7c-391e68db839e",
   "metadata": {},
   "outputs": [
    {
     "name": "stdout",
     "output_type": "stream",
     "text": [
      "Yasir\n",
      "Yasir\n"
     ]
    }
   ],
   "source": [
    "#get method returns key values\n",
    "print(student[\"name\"]) #if not exist the value than it shows error\n",
    "print(student.get(\"name\")) #if not exist the value than it returns none"
   ]
  },
  {
   "cell_type": "code",
   "execution_count": 47,
   "id": "ed23c2bc-8e0a-48cd-94fd-33b817371781",
   "metadata": {},
   "outputs": [
    {
     "name": "stdout",
     "output_type": "stream",
     "text": [
      "None\n"
     ]
    }
   ],
   "source": [
    "print(student.get(\"name1\"))"
   ]
  },
  {
   "cell_type": "code",
   "execution_count": 54,
   "id": "3d9b1caa-0d9a-4c53-bf19-ebef600c0a0b",
   "metadata": {},
   "outputs": [],
   "source": [
    "#update method\n",
    "student.update({\"City\":\"Karachi\"})"
   ]
  },
  {
   "cell_type": "code",
   "execution_count": 55,
   "id": "f09d5638-80b8-4e86-b100-fdd9314c9864",
   "metadata": {},
   "outputs": [
    {
     "name": "stdout",
     "output_type": "stream",
     "text": [
      "{'name': 'Yasir', 'subjects': {'HRM': 70, 'SE': 70, 'OR': 85, 'DSA': 70, 'DS': 70}, 'Father name': 'Nisar Ahmed', 'ID': 5, 'City': 'Karachi'}\n"
     ]
    }
   ],
   "source": [
    "print(student)"
   ]
  },
  {
   "cell_type": "code",
   "execution_count": 57,
   "id": "7ff73d0a-581a-4991-96d2-4d69bede0516",
   "metadata": {},
   "outputs": [
    {
     "name": "stdout",
     "output_type": "stream",
     "text": [
      "Karachi\n"
     ]
    }
   ],
   "source": [
    "print(student[\"City\"])"
   ]
  },
  {
   "cell_type": "code",
   "execution_count": 58,
   "id": "e219f7ca-7982-406e-9f63-585aca5a1c24",
   "metadata": {},
   "outputs": [
    {
     "name": "stdout",
     "output_type": "stream",
     "text": [
      "Karachi\n"
     ]
    }
   ],
   "source": [
    "print(student.get(\"City\"))"
   ]
  },
  {
   "cell_type": "markdown",
   "id": "bf4ea4be-6634-43d9-88da-2aae1a78003e",
   "metadata": {},
   "source": [
    "# Sets\n",
    "### unordered /sets are mutable but their elements are immutable"
   ]
  },
  {
   "cell_type": "code",
   "execution_count": 1,
   "id": "ec3fa0a0-7bba-40a7-8236-89678be5009c",
   "metadata": {},
   "outputs": [
    {
     "name": "stdout",
     "output_type": "stream",
     "text": [
      "{1, 2, 3, 4, 5}\n"
     ]
    }
   ],
   "source": [
    "nums={1,2,3,4,5}\n",
    "print(nums)"
   ]
  },
  {
   "cell_type": "markdown",
   "id": "508e8be2-b732-4f17-b34b-5317fe95598b",
   "metadata": {},
   "source": [
    "### Set ignore repeatation"
   ]
  },
  {
   "cell_type": "code",
   "execution_count": 2,
   "id": "5282289f-ff4a-491a-90ae-9761a1b8c941",
   "metadata": {},
   "outputs": [
    {
     "name": "stdout",
     "output_type": "stream",
     "text": [
      "{1, 2, 3, 4, 5, 6, 'world', 'Hello'}\n"
     ]
    }
   ],
   "source": [
    "nums={1,2,2,2,4,4,5,5,6,6,3,\"Hello\",\"world\",\"world\"}\n",
    "print(nums)"
   ]
  },
  {
   "cell_type": "code",
   "execution_count": 3,
   "id": "525434c0-a31a-4e8e-8104-87faceb1bfae",
   "metadata": {},
   "outputs": [
    {
     "name": "stdout",
     "output_type": "stream",
     "text": [
      "<class 'set'>\n"
     ]
    }
   ],
   "source": [
    "print(type(nums))"
   ]
  },
  {
   "cell_type": "code",
   "execution_count": 4,
   "id": "e31090a4-b17a-4401-9d07-e3bce6ac45c0",
   "metadata": {},
   "outputs": [
    {
     "name": "stdout",
     "output_type": "stream",
     "text": [
      "8\n"
     ]
    }
   ],
   "source": [
    "print(len(nums))"
   ]
  },
  {
   "cell_type": "code",
   "execution_count": 6,
   "id": "ffecdb02-6584-41e0-92b1-2007fda56b8e",
   "metadata": {},
   "outputs": [],
   "source": [
    "nums=set() #empty set"
   ]
  },
  {
   "cell_type": "code",
   "execution_count": 7,
   "id": "d2d59231-f787-481d-a49b-24c699583152",
   "metadata": {},
   "outputs": [
    {
     "name": "stdout",
     "output_type": "stream",
     "text": [
      "set()\n"
     ]
    }
   ],
   "source": [
    "print(nums)"
   ]
  },
  {
   "cell_type": "code",
   "execution_count": 8,
   "id": "339dc6a5-3782-4b30-a2fa-0791031bd7a7",
   "metadata": {},
   "outputs": [
    {
     "name": "stdout",
     "output_type": "stream",
     "text": [
      "<class 'set'>\n"
     ]
    }
   ],
   "source": [
    "print(type(nums))"
   ]
  },
  {
   "cell_type": "markdown",
   "id": "efed4494-7eec-44e8-90b0-e324194a86d2",
   "metadata": {},
   "source": [
    "## Methods of Set"
   ]
  },
  {
   "cell_type": "code",
   "execution_count": 10,
   "id": "90f412cc-e5ef-40d2-ba2f-205f878812a8",
   "metadata": {},
   "outputs": [
    {
     "name": "stdout",
     "output_type": "stream",
     "text": [
      "set()\n"
     ]
    }
   ],
   "source": [
    "collection=set()\n",
    "print(collection)"
   ]
  },
  {
   "cell_type": "code",
   "execution_count": 11,
   "id": "e29599ba-c9e3-4756-a9e3-a28563f4a11c",
   "metadata": {},
   "outputs": [],
   "source": [
    "collection.add(1)\n",
    "collection.add(2)\n",
    "collection.add(33)"
   ]
  },
  {
   "cell_type": "code",
   "execution_count": 12,
   "id": "c83c584e-ed72-4942-a319-82d7514981fb",
   "metadata": {},
   "outputs": [
    {
     "name": "stdout",
     "output_type": "stream",
     "text": [
      "{1, 2, 33}\n"
     ]
    }
   ],
   "source": [
    "print(collection)"
   ]
  },
  {
   "cell_type": "code",
   "execution_count": 13,
   "id": "bf3453d3-89c6-43ec-b28d-618a38a18ff9",
   "metadata": {},
   "outputs": [],
   "source": [
    "collection.remove(2)"
   ]
  },
  {
   "cell_type": "code",
   "execution_count": 14,
   "id": "378fe743-2380-4fea-9850-d70bac5c6040",
   "metadata": {},
   "outputs": [
    {
     "name": "stdout",
     "output_type": "stream",
     "text": [
      "{1, 33}\n"
     ]
    }
   ],
   "source": [
    "print(collection)"
   ]
  },
  {
   "cell_type": "code",
   "execution_count": 24,
   "id": "ad5b7fe0-d595-4379-a112-0248a8f6a4fe",
   "metadata": {},
   "outputs": [],
   "source": [
    "collections={1,1,2,3,4,5,65,7,7,8,56,45,32}"
   ]
  },
  {
   "cell_type": "code",
   "execution_count": 29,
   "id": "31404dd2-5375-4ff0-bb02-3080affd31f0",
   "metadata": {},
   "outputs": [
    {
     "name": "stdout",
     "output_type": "stream",
     "text": [
      "{3, 4, 5, 65, 7, 8, 45, 56}\n"
     ]
    }
   ],
   "source": [
    "collections.pop() #removes random values from set\n",
    "print(collections)"
   ]
  },
  {
   "cell_type": "code",
   "execution_count": 30,
   "id": "3a890874-6587-4100-b2b2-c7760609da44",
   "metadata": {},
   "outputs": [],
   "source": [
    "set1={1,2,3,4}\n",
    "set2={4,5,6,7}"
   ]
  },
  {
   "cell_type": "code",
   "execution_count": 32,
   "id": "fdb3eea4-fa4e-4c22-a28a-4c8934b9a4cf",
   "metadata": {},
   "outputs": [
    {
     "name": "stdout",
     "output_type": "stream",
     "text": [
      "{1, 2, 3, 4, 5, 6, 7}\n"
     ]
    }
   ],
   "source": [
    "print(set1.union(set2)) #union combines both set values and returns it"
   ]
  },
  {
   "cell_type": "code",
   "execution_count": 35,
   "id": "acb5510a-9857-4927-a8d4-42e45d16e303",
   "metadata": {},
   "outputs": [
    {
     "name": "stdout",
     "output_type": "stream",
     "text": [
      "{4}\n"
     ]
    }
   ],
   "source": [
    "print(set1.intersection(set2)) #returns same value in sets"
   ]
  },
  {
   "cell_type": "markdown",
   "id": "468d3f7e-5ba1-41d4-b9d1-06aad0e7331b",
   "metadata": {},
   "source": [
    "### Practice"
   ]
  },
  {
   "cell_type": "code",
   "execution_count": 37,
   "id": "53078b8c-a12f-4262-b947-1e4051cc2490",
   "metadata": {},
   "outputs": [
    {
     "name": "stdout",
     "output_type": "stream",
     "text": [
      "{'table': ('a piece of furniture', 'list of facts and figures'), 'cat': 'a small animal'}\n"
     ]
    }
   ],
   "source": [
    "Dic1={\"table\":(\"a piece of furniture\",\"list of facts and figures\"),\"cat\":\"a small animal\"}\n",
    "print(Dic1)"
   ]
  },
  {
   "cell_type": "code",
   "execution_count": 39,
   "id": "04435eac-c557-483b-a795-693999be221f",
   "metadata": {},
   "outputs": [
    {
     "name": "stdout",
     "output_type": "stream",
     "text": [
      "5\n"
     ]
    }
   ],
   "source": [
    "subjects={\"Python\",\"Java\",\"C++\",\"Python\",\"Javascript\",\"Java\",\"Python\",\"Java\",\"C++\",\"C\"}\n",
    "print(len(subjects))"
   ]
  },
  {
   "cell_type": "code",
   "execution_count": 41,
   "id": "c596bff1-8d68-4049-b308-dffaacb7e90e",
   "metadata": {},
   "outputs": [
    {
     "name": "stdin",
     "output_type": "stream",
     "text": [
      "Enter marks phy: 89\n",
      "Enter marks math: 90\n",
      "Enter marks chem: 98\n"
     ]
    },
    {
     "name": "stdout",
     "output_type": "stream",
     "text": [
      "{'phy': 89, 'math': 90, 'chem': 98}\n"
     ]
    }
   ],
   "source": [
    "marks={}\n",
    "x=int(input(\"Enter marks phy:\"))\n",
    "marks.update({\"phy\":x})\n",
    "x=int(input(\"Enter marks math:\"))\n",
    "marks.update({\"math\":x})\n",
    "x=int(input(\"Enter marks chem:\"))\n",
    "marks.update({\"chem\":x})\n",
    "print(marks)"
   ]
  },
  {
   "cell_type": "code",
   "execution_count": 43,
   "id": "2772f6d1-4a05-4c37-b924-d238d9cb59a4",
   "metadata": {},
   "outputs": [
    {
     "name": "stdout",
     "output_type": "stream",
     "text": [
      "{'9.0', 9}\n",
      "{('int', 9), ('float', 9.0)}\n"
     ]
    }
   ],
   "source": [
    "values={9,\"9.0\"}\n",
    "values1={(\"float\",9.0),(\"int\",9)}\n",
    "print(values)\n",
    "print(values1)"
   ]
  },
  {
   "cell_type": "code",
   "execution_count": null,
   "id": "ba1d1b59-61b3-4e3c-9550-297c22309325",
   "metadata": {},
   "outputs": [],
   "source": []
  }
 ],
 "metadata": {
  "kernelspec": {
   "display_name": "Python 3 (ipykernel)",
   "language": "python",
   "name": "python3"
  },
  "language_info": {
   "codemirror_mode": {
    "name": "ipython",
    "version": 3
   },
   "file_extension": ".py",
   "mimetype": "text/x-python",
   "name": "python",
   "nbconvert_exporter": "python",
   "pygments_lexer": "ipython3",
   "version": "3.11.7"
  }
 },
 "nbformat": 4,
 "nbformat_minor": 5
}
