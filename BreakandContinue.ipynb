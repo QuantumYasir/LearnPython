{
 "cells": [
  {
   "cell_type": "markdown",
   "id": "f51447e0-4e06-44d8-9da7-04a1d42fc344",
   "metadata": {},
   "source": [
    "### BREAK Statement will leave the loop"
   ]
  },
  {
   "cell_type": "code",
   "execution_count": 1,
   "id": "8f947194-79ca-4643-8185-a7bcd5a9a164",
   "metadata": {},
   "outputs": [
    {
     "name": "stdout",
     "output_type": "stream",
     "text": [
      "5 X 1 5\n",
      "5 X 2 10\n",
      "5 X 3 15\n",
      "5 X 4 20\n",
      "5 X 5 25\n",
      "5 X 6 30\n",
      "5 X 7 35\n",
      "5 X 8 40\n",
      "5 X 9 45\n",
      "5 X 10 50\n",
      "leave the loop\n"
     ]
    }
   ],
   "source": [
    "for i in range(12):\n",
    "    if(i==10):\n",
    "        break\n",
    "    print(\"5 X\",i+1, 5*(i+1))\n",
    "print(\"leave the loop\")"
   ]
  },
  {
   "cell_type": "code",
   "execution_count": 20,
   "id": "d78a8d3c-d765-422a-85dd-607b9274205d",
   "metadata": {},
   "outputs": [
    {
     "name": "stdout",
     "output_type": "stream",
     "text": [
      "1 Mississippi\n",
      "2 Mississippi\n",
      "3 Mississippi\n",
      "4 Mississippi\n",
      "5 Mississippi\n",
      "6 Mississippi\n",
      "7 Mississippi\n",
      "8 Mississippi\n",
      "9 Mississippi\n",
      "10 Mississippi\n",
      "11 Mississippi\n",
      "12 Mississippi\n",
      "13 Mississippi\n",
      "14 Mississippi\n",
      "15 Mississippi\n",
      "16 Mississippi\n",
      "17 Mississippi\n",
      "18 Mississippi\n",
      "19 Mississippi\n",
      "20 Mississippi\n",
      "21 Mississippi\n",
      "22 Mississippi\n",
      "23 Mississippi\n",
      "24 Mississippi\n",
      "25 Mississippi\n",
      "26 Mississippi\n",
      "27 Mississippi\n",
      "28 Mississippi\n",
      "29 Mississippi\n",
      "30 Mississippi\n",
      "31 Mississippi\n",
      "32 Mississippi\n",
      "33 Mississippi\n",
      "34 Mississippi\n",
      "35 Mississippi\n",
      "36 Mississippi\n",
      "37 Mississippi\n",
      "38 Mississippi\n",
      "39 Mississippi\n",
      "40 Mississippi\n",
      "41 Mississippi\n",
      "42 Mississippi\n",
      "43 Mississippi\n",
      "44 Mississippi\n",
      "45 Mississippi\n",
      "46 Mississippi\n",
      "47 Mississippi\n",
      "48 Mississippi\n",
      "49 Mississippi\n",
      "50 Thank you\n"
     ]
    }
   ],
   "source": [
    "for i in range(1,101,1):\n",
    "    print(i ,end=\" \")\n",
    "    if(i==50):\n",
    "        break\n",
    "    else:\n",
    "        print(\"Mississippi\")\n",
    "print(\"Thank you\")"
   ]
  },
  {
   "cell_type": "markdown",
   "id": "3886ce6e-1c06-4f6f-bb33-fd6e6dc4efe9",
   "metadata": {},
   "source": [
    "### Continue statement will leave the iteration"
   ]
  },
  {
   "cell_type": "code",
   "execution_count": 2,
   "id": "7239ff9f-a2d0-4f9c-9482-589ea4677efa",
   "metadata": {},
   "outputs": [
    {
     "name": "stdout",
     "output_type": "stream",
     "text": [
      "5 X 1 5\n",
      "5 X 2 10\n",
      "5 X 3 15\n",
      "5 X 4 20\n",
      "5 X 5 25\n",
      "5 X 6 30\n",
      "5 X 7 35\n",
      "5 X 8 40\n",
      "5 X 9 45\n",
      "5 X 10 50\n",
      "5 X 12 60\n",
      "leave the loop\n"
     ]
    }
   ],
   "source": [
    "for i in range(12):\n",
    "    if(i==10):\n",
    "        continue\n",
    "    print(\"5 X\",i+1, 5*(i+1))\n",
    "print(\"leave the loop\")"
   ]
  },
  {
   "cell_type": "code",
   "execution_count": 18,
   "id": "68c27ccf-c54d-4866-baf6-fb73424d14fe",
   "metadata": {},
   "outputs": [
    {
     "name": "stdout",
     "output_type": "stream",
     "text": [
      "8 X 1 8\n",
      "8 X 2 16\n",
      "8 X 3 24\n",
      "8 X 4 32\n",
      "8 X 5 40\n",
      "8 X 6 48\n",
      "8 X 7 56\n",
      "8 X 8 64\n",
      "8 X 9 72\n",
      "8 X 10 80\n",
      "8 X 12 96\n",
      "leave the loop\n"
     ]
    }
   ],
   "source": [
    "for i in range(12):\n",
    "    if(i==10):\n",
    "        continue\n",
    "    print(\"8 X\",i+1, 8*(i+1))\n",
    "print(\"leave the loop\")"
   ]
  },
  {
   "cell_type": "code",
   "execution_count": 14,
   "id": "d5212809-e088-4794-9f58-d73f88511ca7",
   "metadata": {},
   "outputs": [
    {
     "name": "stdout",
     "output_type": "stream",
     "text": [
      "skip the iteration\n"
     ]
    }
   ],
   "source": [
    "for i in range(12):\n",
    " if(i==10):\n",
    "    print(\"skip the iteration\")\n",
    "    continue\n",
    "    print(\"5 X\", i+1,\"=\",5*(i+1))"
   ]
  },
  {
   "cell_type": "code",
   "execution_count": 17,
   "id": "fe53f8a8-8974-4490-90f3-3840cc5b5f53",
   "metadata": {},
   "outputs": [
    {
     "name": "stdout",
     "output_type": "stream",
     "text": [
      "skip that part\n"
     ]
    }
   ],
   "source": [
    "for i in range(12):\n",
    " if(i==10):\n",
    "    print(\"skip that part\")\n",
    "    continue\n",
    "    print(\"5 X\",i+1,5*(i+1))"
   ]
  },
  {
   "cell_type": "code",
   "execution_count": 19,
   "id": "1798ddca-03f3-44fb-b3f9-010ded70740e",
   "metadata": {},
   "outputs": [
    {
     "name": "stdout",
     "output_type": "stream",
     "text": [
      "Skip\n"
     ]
    }
   ],
   "source": [
    "for i in range(12):\n",
    "    if(i==10):\n",
    "        print(\"Skip\")\n",
    "        continue\n",
    "        print(\"5 X\",i,\"=\",5*i)"
   ]
  },
  {
   "cell_type": "code",
   "execution_count": 21,
   "id": "5fb6abd8-82c5-4cb8-be8c-0a1de9f8edbf",
   "metadata": {},
   "outputs": [
    {
     "name": "stdout",
     "output_type": "stream",
     "text": [
      "2\n",
      "4\n",
      "6\n",
      "8\n",
      "0\n"
     ]
    }
   ],
   "source": [
    "for i in [2,3,4,6,8,0]:\n",
    "    if (i%2!=0):\n",
    "        continue\n",
    "    print(i)"
   ]
  },
  {
   "cell_type": "code",
   "execution_count": null,
   "id": "653f87e2-600e-4a3f-b6d0-7c7777e0d910",
   "metadata": {},
   "outputs": [],
   "source": []
  }
 ],
 "metadata": {
  "kernelspec": {
   "display_name": "Python 3 (ipykernel)",
   "language": "python",
   "name": "python3"
  },
  "language_info": {
   "codemirror_mode": {
    "name": "ipython",
    "version": 3
   },
   "file_extension": ".py",
   "mimetype": "text/x-python",
   "name": "python",
   "nbconvert_exporter": "python",
   "pygments_lexer": "ipython3",
   "version": "3.11.7"
  }
 },
 "nbformat": 4,
 "nbformat_minor": 5
}
