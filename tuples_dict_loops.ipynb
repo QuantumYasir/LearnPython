{
 "cells": [
  {
   "cell_type": "code",
   "execution_count": 1,
   "id": "c5fcbad2-8356-4b5e-8106-f8bda14894c1",
   "metadata": {},
   "outputs": [
    {
     "data": {
      "text/plain": [
       "tuple"
      ]
     },
     "execution_count": 1,
     "metadata": {},
     "output_type": "execute_result"
    }
   ],
   "source": [
    "tp_bio_data=(\"Yasir\",\"Student\",\"9to12\")\n",
    "type(tp_bio_data)"
   ]
  },
  {
   "cell_type": "code",
   "execution_count": 2,
   "id": "a6975256-8afb-4ff8-b64a-770c43b942ab",
   "metadata": {},
   "outputs": [
    {
     "name": "stdout",
     "output_type": "stream",
     "text": [
      "(1,)\n"
     ]
    }
   ],
   "source": [
    "tp=(1,)\n",
    "print(tp)"
   ]
  },
  {
   "cell_type": "code",
   "execution_count": 3,
   "id": "4c838ba8-3068-4086-915f-b966facb1682",
   "metadata": {},
   "outputs": [
    {
     "data": {
      "text/plain": [
       "tuple"
      ]
     },
     "execution_count": 3,
     "metadata": {},
     "output_type": "execute_result"
    }
   ],
   "source": [
    "type(tp)"
   ]
  },
  {
   "cell_type": "code",
   "execution_count": 4,
   "id": "11c9276b-33d4-4241-a4a0-ed6b2746bf3f",
   "metadata": {},
   "outputs": [
    {
     "data": {
      "text/plain": [
       "int"
      ]
     },
     "execution_count": 4,
     "metadata": {},
     "output_type": "execute_result"
    }
   ],
   "source": [
    "tp=(1)\n",
    "type(tp)"
   ]
  },
  {
   "cell_type": "code",
   "execution_count": 5,
   "id": "d724a994-da74-4279-98b1-9e7df0b4e1f9",
   "metadata": {},
   "outputs": [
    {
     "name": "stdout",
     "output_type": "stream",
     "text": [
      "0\n"
     ]
    }
   ],
   "source": [
    "print(tp_bio_data.count(1))"
   ]
  },
  {
   "cell_type": "code",
   "execution_count": 20,
   "id": "22dcea89-f9d4-4f88-ace2-7fd0ed65c33d",
   "metadata": {},
   "outputs": [
    {
     "name": "stdout",
     "output_type": "stream",
     "text": [
      "Yasir\n",
      "24\n",
      "2000\n"
     ]
    }
   ],
   "source": [
    "about_me=(\"Yasir\",\"24\",\"2000\")\n",
    "for about_me in about_me:\n",
    "    print(about_me)"
   ]
  },
  {
   "cell_type": "code",
   "execution_count": 14,
   "id": "7b7c9edc-0c7d-40c8-8171-84b81f23d120",
   "metadata": {},
   "outputs": [
    {
     "data": {
      "text/plain": [
       "0"
      ]
     },
     "execution_count": 14,
     "metadata": {},
     "output_type": "execute_result"
    }
   ],
   "source": [
    "about_me.count(1)"
   ]
  },
  {
   "cell_type": "code",
   "execution_count": 15,
   "id": "97b59062-6593-43e4-8bd4-e8d1c1abd931",
   "metadata": {},
   "outputs": [
    {
     "data": {
      "text/plain": [
       "0"
      ]
     },
     "execution_count": 15,
     "metadata": {},
     "output_type": "execute_result"
    }
   ],
   "source": [
    "about_me.index(\"Yasir\")"
   ]
  },
  {
   "cell_type": "markdown",
   "id": "d808b834-1f8a-432f-a0ea-4e07c54bd76d",
   "metadata": {},
   "source": [
    "# LOOPS"
   ]
  },
  {
   "cell_type": "code",
   "execution_count": 19,
   "id": "0cd50115-c27a-4a4f-a8a8-006663a4c533",
   "metadata": {},
   "outputs": [
    {
     "name": "stdout",
     "output_type": "stream",
     "text": [
      "Mango\n",
      "Apple\n",
      "Grapes\n",
      "Banana\n",
      "Strawberry\n"
     ]
    }
   ],
   "source": [
    "fruits=[\"Mango\",\"Apple\",\"Grapes\",\"Banana\",\"Strawberry\"]\n",
    "for fruit in fruits:\n",
    "    print(fruit)"
   ]
  },
  {
   "cell_type": "code",
   "execution_count": 21,
   "id": "8c2ff721-b1cb-4638-a652-5a8501e58c21",
   "metadata": {},
   "outputs": [
    {
     "data": {
      "text/plain": [
       "<enumerate at 0x29028885350>"
      ]
     },
     "execution_count": 21,
     "metadata": {},
     "output_type": "execute_result"
    }
   ],
   "source": [
    "enumerate(fruits)"
   ]
  },
  {
   "cell_type": "code",
   "execution_count": 22,
   "id": "d3294c6d-5c4d-4295-b64b-0cf154624495",
   "metadata": {},
   "outputs": [
    {
     "data": {
      "text/plain": [
       "<enumerate at 0x29027a34c20>"
      ]
     },
     "execution_count": 22,
     "metadata": {},
     "output_type": "execute_result"
    }
   ],
   "source": [
    "em_fruits=enumerate(fruits)\n",
    "em_fruits"
   ]
  },
  {
   "cell_type": "code",
   "execution_count": 23,
   "id": "04ead711-c6a4-4a0f-82ae-d9055eccc9b5",
   "metadata": {},
   "outputs": [
    {
     "name": "stdout",
     "output_type": "stream",
     "text": [
      "['Mango', 'Apple', 'Grapes', 'Banana', 'Strawberry']\n"
     ]
    }
   ],
   "source": [
    "print(fruits)"
   ]
  },
  {
   "cell_type": "code",
   "execution_count": 24,
   "id": "4381d8df-6508-463c-88ed-5471e0249b8c",
   "metadata": {},
   "outputs": [
    {
     "name": "stdout",
     "output_type": "stream",
     "text": [
      "[(0, 'Mango'), (1, 'Apple'), (2, 'Grapes'), (3, 'Banana'), (4, 'Strawberry')]\n"
     ]
    }
   ],
   "source": [
    "em_fruits= enumerate(fruits)\n",
    "print(list(em_fruits))"
   ]
  },
  {
   "cell_type": "code",
   "execution_count": 26,
   "id": "50e59101-6733-41e1-997c-88b1b51d8a6d",
   "metadata": {},
   "outputs": [
    {
     "name": "stdout",
     "output_type": "stream",
     "text": [
      "(0, 'Mango')\n",
      "(1, 'Apple')\n",
      "(2, 'Grapes')\n",
      "(3, 'Banana')\n",
      "(4, 'Strawberry')\n"
     ]
    }
   ],
   "source": [
    "for data in enumerate(fruits):\n",
    "    print(data)"
   ]
  },
  {
   "cell_type": "code",
   "execution_count": 27,
   "id": "780f0411-e711-47f3-b719-75e88203bfc7",
   "metadata": {},
   "outputs": [
    {
     "name": "stdout",
     "output_type": "stream",
     "text": [
      "Strawberry is at 4\n",
      "Strawberry is at 4\n",
      "Strawberry is at 4\n",
      "Strawberry is at 4\n",
      "Strawberry is at 4\n"
     ]
    }
   ],
   "source": [
    "for date in enumerate(fruits):\n",
    "    print(f\"{data[1]} is at {data[0]}\")"
   ]
  },
  {
   "cell_type": "code",
   "execution_count": 30,
   "id": "cb8d618a-e142-45a7-927a-ada9e797435e",
   "metadata": {},
   "outputs": [
    {
     "name": "stdout",
     "output_type": "stream",
     "text": [
      "[0, 1, 2, 3]\n"
     ]
    },
    {
     "data": {
      "text/plain": [
       "['Mango', 'Apple', 'Grapes', 'Banana', 'Strawberry']"
      ]
     },
     "execution_count": 30,
     "metadata": {},
     "output_type": "execute_result"
    }
   ],
   "source": [
    "fruit_index=[0,1,2,3]\n",
    "print(fruit_index)\n",
    "fruits"
   ]
  },
  {
   "cell_type": "code",
   "execution_count": 31,
   "id": "cc7073de-2a06-4e06-8b85-ab43fed81318",
   "metadata": {},
   "outputs": [
    {
     "name": "stdout",
     "output_type": "stream",
     "text": [
      "(0, 'Mango')\n",
      "(1, 'Apple')\n",
      "(2, 'Grapes')\n",
      "(3, 'Banana')\n"
     ]
    }
   ],
   "source": [
    "for data in zip(fruit_index,fruits):\n",
    "    print(data)"
   ]
  },
  {
   "cell_type": "code",
   "execution_count": 32,
   "id": "eebf0073-e7de-4f66-a932-1af9a2bb229d",
   "metadata": {},
   "outputs": [
    {
     "name": "stdout",
     "output_type": "stream",
     "text": [
      "0\n",
      "1\n",
      "2\n",
      "3\n",
      "4\n",
      "5\n",
      "6\n",
      "7\n",
      "8\n",
      "9\n"
     ]
    }
   ],
   "source": [
    "for temp in range(10):\n",
    "    print(temp)"
   ]
  },
  {
   "cell_type": "code",
   "execution_count": 33,
   "id": "f7f68143-53be-4e5c-8a06-56803260ebba",
   "metadata": {},
   "outputs": [
    {
     "name": "stdout",
     "output_type": "stream",
     "text": [
      "2\n",
      "4\n"
     ]
    }
   ],
   "source": [
    "for temp in range(2,5,2):\n",
    "    print(temp)"
   ]
  },
  {
   "cell_type": "code",
   "execution_count": 37,
   "id": "88f015d6-dc90-469a-8d6a-154818adf855",
   "metadata": {},
   "outputs": [
    {
     "name": "stdout",
     "output_type": "stream",
     "text": [
      "20\n",
      "23\n"
     ]
    }
   ],
   "source": [
    "for temp in range(20,25,3):\n",
    "    print(temp)"
   ]
  },
  {
   "cell_type": "code",
   "execution_count": 38,
   "id": "33bc430b-757a-4b9f-83d5-26e13e918599",
   "metadata": {},
   "outputs": [
    {
     "data": {
      "text/plain": [
       "['Mango', 'Apple', 'Grapes', 'Banana', 'Strawberry']"
      ]
     },
     "execution_count": 38,
     "metadata": {},
     "output_type": "execute_result"
    }
   ],
   "source": [
    "fruits"
   ]
  },
  {
   "cell_type": "code",
   "execution_count": 40,
   "id": "03910d6f-5807-48c9-967e-0ab6d303a853",
   "metadata": {},
   "outputs": [
    {
     "name": "stdout",
     "output_type": "stream",
     "text": [
      "apple\n",
      "apple\n",
      "apple\n",
      "apple\n",
      "apple\n",
      "apple\n",
      "apple\n",
      "apple\n",
      "apple\n",
      "apple\n",
      "apple\n",
      "apple\n",
      "apple\n",
      "apple\n",
      "apple\n"
     ]
    }
   ],
   "source": [
    "for i in range(15):\n",
    "    print(\"apple\")"
   ]
  },
  {
   "cell_type": "code",
   "execution_count": 45,
   "id": "8287972c-7bf4-4731-95d9-93f8c329ff58",
   "metadata": {},
   "outputs": [
    {
     "name": "stdout",
     "output_type": "stream",
     "text": [
      "apple\n",
      "apple\n",
      "apple\n",
      "apple\n",
      "apple\n",
      "apple\n",
      "apple\n",
      "apple\n",
      "apple\n",
      "apple\n",
      "apple\n",
      "apple\n",
      "apple\n",
      "apple\n",
      "apple\n",
      "\n"
     ]
    }
   ],
   "source": [
    "print(\"apple\\n\"*15)"
   ]
  },
  {
   "cell_type": "code",
   "execution_count": 49,
   "id": "3350aed5-a2b7-4759-aa29-ed4d043bced9",
   "metadata": {},
   "outputs": [
    {
     "name": "stdin",
     "output_type": "stream",
     "text": [
      "clean_cities: Karachi\n"
     ]
    },
    {
     "name": "stdout",
     "output_type": "stream",
     "text": [
      "Karachi\n"
     ]
    }
   ],
   "source": [
    "clean_cities=[\"karachi\",\"Lahore\",\"Multan\"]\n",
    "non_clean_cities=[]\n",
    "print(input(\"clean_cities:\"))\n",
    "    "
   ]
  },
  {
   "cell_type": "code",
   "execution_count": 52,
   "id": "512a3f10-1179-49d3-8210-79e7a4bd9b5b",
   "metadata": {},
   "outputs": [
    {
     "name": "stdin",
     "output_type": "stream",
     "text": [
      "Your city is already in group A: Faislabad\n"
     ]
    },
    {
     "name": "stdout",
     "output_type": "stream",
     "text": [
      "Your city is not clean\n",
      "['Faislabad']\n"
     ]
    }
   ],
   "source": [
    "group_A=[\"karachi\",\"lahore\",\"multan\"]\n",
    "group_B=[]\n",
    "user_input=input(\"Your city is already in group A:\")\n",
    "if user_input in group_A:\n",
    "    print(\"your city is clean\")\n",
    "else:\n",
    "    print(\"Your city is not clean\")\n",
    "group_B.append(user_input)\n",
    "print(group_B)"
   ]
  },
  {
   "cell_type": "code",
   "execution_count": 54,
   "id": "4af8e785-c87b-4137-b022-4c8e33bca3cf",
   "metadata": {},
   "outputs": [
    {
     "name": "stdout",
     "output_type": "stream",
     "text": [
      "karachi vs Faislabad\n",
      "lahore vs Faislabad\n",
      "multan vs Faislabad\n"
     ]
    }
   ],
   "source": [
    "for a in range(len(group_A)):\n",
    "    for b in range(len(group_B)):\n",
    "        print(group_A[a], 'vs' , group_B[b])\n",
    "        if group_A[a]==group_B[b]:\n",
    "            print(\"Matched\")\n",
    "            break;"
   ]
  },
  {
   "cell_type": "code",
   "execution_count": 55,
   "id": "74fb17a3-e500-4148-a684-3feb0a0ca67a",
   "metadata": {},
   "outputs": [
    {
     "data": {
      "text/plain": [
       "24"
      ]
     },
     "execution_count": 55,
     "metadata": {},
     "output_type": "execute_result"
    }
   ],
   "source": [
    "dict={\"age\":24,\"weight\":47}\n",
    "dict[\"age\"]"
   ]
  },
  {
   "cell_type": "code",
   "execution_count": 57,
   "id": "01ade904-f5f1-4a4f-9d76-7e7d044cae4a",
   "metadata": {},
   "outputs": [
    {
     "data": {
      "text/plain": [
       "'karachi'"
      ]
     },
     "execution_count": 57,
     "metadata": {},
     "output_type": "execute_result"
    }
   ],
   "source": [
    "customer={\"f_name\":\"Yasir\",\"l_name\":\"Ahmed\",\"address\":\"karachi\"}\n",
    "customer[\"address\"]"
   ]
  },
  {
   "cell_type": "code",
   "execution_count": 62,
   "id": "a79d5694-ad34-4734-a91c-abc90755eaaa",
   "metadata": {},
   "outputs": [
    {
     "name": "stdout",
     "output_type": "stream",
     "text": [
      "{'f_name': 'Yasir', 'l_name': 'Ahmed', 'address': 'karachi', 'phone': 4324324}\n"
     ]
    }
   ],
   "source": [
    "customer[\"phone\"]=4324324\n",
    "print(customer)"
   ]
  },
  {
   "cell_type": "code",
   "execution_count": 63,
   "id": "ac54c4bc-473f-497f-bb09-7abca5d8f899",
   "metadata": {},
   "outputs": [],
   "source": [
    "customer[\"city\"]=\"karachi\""
   ]
  },
  {
   "cell_type": "code",
   "execution_count": 69,
   "id": "94191178-c1e4-4e45-ae32-082d33f623c1",
   "metadata": {},
   "outputs": [
    {
     "name": "stdin",
     "output_type": "stream",
     "text": [
      "tasks: 4\n",
      "Enter your task: work\n",
      "Enter your task: gym\n",
      "Enter your task: uni\n",
      "Enter your task: python\n"
     ]
    }
   ],
   "source": [
    "dict={}\n",
    "taskcount=input(\"tasks:\")\n",
    "for count in range(int(taskcount)):\n",
    "    dict['task'+str(count)]=input(\"Enter your task:\")\n",
    "    dict"
   ]
  },
  {
   "cell_type": "code",
   "execution_count": 70,
   "id": "eee7574a-81f5-46ad-b5b8-94b9d160dffd",
   "metadata": {},
   "outputs": [],
   "source": [
    "del customer[\"phone\"]"
   ]
  },
  {
   "cell_type": "markdown",
   "id": "b5c7dded-2bac-42d3-9cdd-476d04f1a3ac",
   "metadata": {},
   "source": [
    "### looping in dict\n",
    "#### By default keys\n",
    "### for values we should use .values() method"
   ]
  },
  {
   "cell_type": "code",
   "execution_count": 71,
   "id": "ff1325db-d806-45af-ab98-d9988c3ae4e0",
   "metadata": {},
   "outputs": [
    {
     "name": "stdout",
     "output_type": "stream",
     "text": [
      "f_name\n",
      "l_name\n",
      "address\n",
      "city\n"
     ]
    }
   ],
   "source": [
    "for temp in customer:\n",
    "    print(temp)"
   ]
  },
  {
   "cell_type": "code",
   "execution_count": 72,
   "id": "185099e0-a097-405a-a80a-a65ef1d5d9f5",
   "metadata": {},
   "outputs": [
    {
     "name": "stdout",
     "output_type": "stream",
     "text": [
      "f_name --> Yasir\n",
      "l_name --> Ahmed\n",
      "address --> karachi\n",
      "city --> karachi\n"
     ]
    }
   ],
   "source": [
    "for key, value in customer.items():\n",
    "    print(key, \"-->\" ,value)"
   ]
  },
  {
   "cell_type": "code",
   "execution_count": 73,
   "id": "395d1476-9d38-4a02-84bc-e466f1d2d633",
   "metadata": {},
   "outputs": [
    {
     "data": {
      "text/plain": [
       "{'f_name': 'Yasir', 'l_name': 'Ahmed', 'address': 'karachi', 'city': 'karachi'}"
      ]
     },
     "execution_count": 73,
     "metadata": {},
     "output_type": "execute_result"
    }
   ],
   "source": [
    "customer"
   ]
  },
  {
   "cell_type": "code",
   "execution_count": 1,
   "id": "99670339-39a1-4c17-a100-293799303278",
   "metadata": {},
   "outputs": [],
   "source": [
    "list_of_dict = [\n",
    "    {'first name': 'David',\n",
    "    'last name': 'Elliott',\n",
    "    'address': '4803 Wellesley St.',\n",
    "    'city': 'LA'},\n",
    "    {'first name': 'Qasim',\n",
    "    'last name': 'Hassan',\n",
    "    'address': 'Near SMIT',\n",
    "    'city': 'Karachi'},\n",
    "    {'first name': 'Hassan',\n",
    "    'last name': 'Khan',\n",
    "    'address': 'Johar town',\n",
    "    'city': 'Lahore'}\n",
    "]"
   ]
  },
  {
   "cell_type": "code",
   "execution_count": 2,
   "id": "9d9ea458-d85b-4f73-9a44-a1de7c52895a",
   "metadata": {},
   "outputs": [
    {
     "name": "stdout",
     "output_type": "stream",
     "text": [
      "[{'first name': 'David', 'last name': 'Elliott', 'address': '4803 Wellesley St.', 'city': 'LA'}, {'first name': 'Qasim', 'last name': 'Hassan', 'address': 'Near SMIT', 'city': 'Karachi'}, {'first name': 'Hassan', 'last name': 'Khan', 'address': 'Johar town', 'city': 'Lahore'}]\n"
     ]
    }
   ],
   "source": [
    "print(list_of_dict)"
   ]
  },
  {
   "cell_type": "code",
   "execution_count": 3,
   "id": "594f5703-2a1c-447f-8922-b74bb4bb529b",
   "metadata": {},
   "outputs": [
    {
     "name": "stdin",
     "output_type": "stream",
     "text": [
      "Your city is already in group A: karachi\n"
     ]
    },
    {
     "name": "stdout",
     "output_type": "stream",
     "text": [
      "your city is clean\n",
      "['karachi']\n"
     ]
    }
   ],
   "source": [
    "group_A=[\"karachi\",\"lahore\",\"multan\"]\n",
    "group_B=[]\n",
    "user_input=input(\"Your city is already in group A:\")\n",
    "if user_input in group_A:\n",
    "    print(\"your city is clean\")\n",
    "else:\n",
    "    print(\"Your city is not clean\")\n",
    "group_B.append(user_input)\n",
    "print(group_B)"
   ]
  },
  {
   "cell_type": "code",
   "execution_count": 9,
   "id": "793f2516-e280-49b1-8833-6c11e57d8224",
   "metadata": {},
   "outputs": [
    {
     "name": "stdin",
     "output_type": "stream",
     "text": [
      "Your name is already in group c: karachi\n"
     ]
    },
    {
     "name": "stdout",
     "output_type": "stream",
     "text": [
      "your name is not clean:\n",
      "0\n",
      "1\n",
      "2\n",
      "3\n",
      "4\n",
      "5\n",
      "['karachi']\n"
     ]
    }
   ],
   "source": [
    "group_c=[\"yasir\",\"saqib\",\"basit\",\"asif\",\"usman\",\"rawaid\"]\n",
    "group_d=[]\n",
    "user_input=input(\"Your name is already in group c:\")\n",
    "if user_input in group_c:\n",
    "    print(\"your name is clean\")\n",
    "else:\n",
    "    print(\"your name is not clean:\")\n",
    "for group_c in range(len(group_c)):\n",
    "    print(group_c)    \n",
    "group_d.append(user_input)\n",
    "print(group_d)"
   ]
  },
  {
   "cell_type": "code",
   "execution_count": 13,
   "id": "d957be91-5fa7-4936-a876-577b761eaf93",
   "metadata": {},
   "outputs": [
    {
     "name": "stdin",
     "output_type": "stream",
     "text": [
      "enter key or value: David\n"
     ]
    },
    {
     "name": "stdout",
     "output_type": "stream",
     "text": [
      "your detail is not on the list:\n"
     ]
    }
   ],
   "source": [
    "list_of_dict = [\n",
    "    {'first name': 'David',\n",
    "    'last name': 'Elliott',\n",
    "    'address': '4803 Wellesley St.',\n",
    "    'city': 'LA'},\n",
    "    {'first name': 'Qasim',\n",
    "    'last name': 'Hassan',\n",
    "    'address': 'Near SMIT',\n",
    "    'city': 'Karachi'},\n",
    "    {'first name': 'Hassan',\n",
    "    'last name': 'Khan',\n",
    "    'address': 'Johar town',\n",
    "    'city': 'Lahore'}\n",
    "]\n",
    "list2={}\n",
    "user_input=input(\"enter key or value:\")\n",
    "if user_input in list_of_dict:\n",
    "    print(\"your name is on the list:\")\n",
    "else:\n",
    "    print(\"your detail is not on the list:\")"
   ]
  },
  {
   "cell_type": "code",
   "execution_count": null,
   "id": "c0a1f080-34fa-4de6-a8c7-09119c17b3a3",
   "metadata": {},
   "outputs": [],
   "source": []
  }
 ],
 "metadata": {
  "kernelspec": {
   "display_name": "Python 3 (ipykernel)",
   "language": "python",
   "name": "python3"
  },
  "language_info": {
   "codemirror_mode": {
    "name": "ipython",
    "version": 3
   },
   "file_extension": ".py",
   "mimetype": "text/x-python",
   "name": "python",
   "nbconvert_exporter": "python",
   "pygments_lexer": "ipython3",
   "version": "3.11.7"
  }
 },
 "nbformat": 4,
 "nbformat_minor": 5
}
