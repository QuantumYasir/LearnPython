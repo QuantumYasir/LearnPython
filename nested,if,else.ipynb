{
 "cells": [
  {
   "cell_type": "code",
   "execution_count": 2,
   "id": "2d879f0b-bea5-4666-ac63-e25ebbd4c126",
   "metadata": {},
   "outputs": [
    {
     "name": "stdout",
     "output_type": "stream",
     "text": [
      "can proceed ith the test\n"
     ]
    },
    {
     "name": "stdin",
     "output_type": "stream",
     "text": [
      "status of test(pass/fail): pass\n"
     ]
    }
   ],
   "source": [
    "matric_pass=True\n",
    "if matric_pass:\n",
    "    print(f\"can proceed ith the test\")\n",
    "    test_cleared=input(\"status of test(pass/fail):\")\n",
    "    if test_cleared == \"pass\":\n",
    "        (f\"can take admisssion\")\n",
    "    else:\n",
    "        print(f\"You are in waiting list\")\n",
    "else:\n",
    "    print(f\"Atleast matric is the bare minimum requirement\")"
   ]
  },
  {
   "cell_type": "code",
   "execution_count": 2,
   "id": "6d7dfec3-9d1d-43ba-8117-b1122111ee83",
   "metadata": {},
   "outputs": [
    {
     "name": "stdout",
     "output_type": "stream",
     "text": [
      "can proceed ith the test\n"
     ]
    },
    {
     "name": "stdin",
     "output_type": "stream",
     "text": [
      "status of test(pass/fail): pass\n"
     ]
    }
   ],
   "source": [
    "matric_pass=True\n",
    "if matric_pass:\n",
    "    print(f\"can proceed ith the test\")\n",
    "    test_cleared=input(\"status of test(pass/fail):\")\n",
    "    if test_cleared == \"pass\":\n",
    "        \n",
    "        (f\"can take admisssion\")\n",
    "    else:\n",
    "        print(f\"You are in waiting list\")\n",
    "else:\n",
    "    print(f\"Atleast matric is the bare minimum requirement\")"
   ]
  },
  {
   "cell_type": "code",
   "execution_count": 11,
   "id": "993c5c97-36dc-4da1-a088-005e9736fa13",
   "metadata": {},
   "outputs": [
    {
     "name": "stdout",
     "output_type": "stream",
     "text": [
      "can proceed ith the test\n"
     ]
    },
    {
     "name": "stdin",
     "output_type": "stream",
     "text": [
      "status of test(pass/fail): fail\n"
     ]
    },
    {
     "name": "stdout",
     "output_type": "stream",
     "text": [
      "You are in waiting list\n"
     ]
    }
   ],
   "source": [
    "matric_pass=True\n",
    "if matric_pass:\n",
    "    print(f\"can proceed ith the test\")\n",
    "    test_cleared=input(\"status of test(pass/fail):\")\n",
    "    if test_cleared == \"pass\":\n",
    "        \n",
    "        (f\"can take admisssion\")\n",
    "    else:\n",
    "        print(f\"You are in waiting list\")\n",
    "else:\n",
    "    print(f\"Atleast matric is the bare minimum requirement\")"
   ]
  },
  {
   "cell_type": "code",
   "execution_count": 13,
   "id": "2e38fc90-2e0a-40bc-a72a-96286cb7a05b",
   "metadata": {},
   "outputs": [
    {
     "name": "stdout",
     "output_type": "stream",
     "text": [
      "you can get admission\n"
     ]
    }
   ],
   "source": [
    "matric_pass=True\n",
    "test_pass=True\n",
    "if(matric_pass and test_cleared):\n",
    "   print(\"you can get admission\")\n",
    "elif(matric_pass):\n",
    "    print(\"you are on waiting list\")\n",
    "else:\n",
    "    print(\"you cannot take admission\")"
   ]
  },
  {
   "cell_type": "code",
   "execution_count": null,
   "id": "a129049c-d4a5-4657-8458-654326d24c14",
   "metadata": {},
   "outputs": [],
   "source": []
  }
 ],
 "metadata": {
  "kernelspec": {
   "display_name": "Python 3 (ipykernel)",
   "language": "python",
   "name": "python3"
  },
  "language_info": {
   "codemirror_mode": {
    "name": "ipython",
    "version": 3
   },
   "file_extension": ".py",
   "mimetype": "text/x-python",
   "name": "python",
   "nbconvert_exporter": "python",
   "pygments_lexer": "ipython3",
   "version": "3.11.7"
  }
 },
 "nbformat": 4,
 "nbformat_minor": 5
}
