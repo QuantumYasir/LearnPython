{
 "cells": [
  {
   "cell_type": "markdown",
   "id": "135c4a76-5ee2-4f9a-ad30-52c5c2e68795",
   "metadata": {},
   "source": [
    "### A function is a block of code that performs a specific task whenever it is called."
   ]
  },
  {
   "cell_type": "code",
   "execution_count": null,
   "id": "93b50836-4e61-42ce-ab9a-3f2f117d8a21",
   "metadata": {},
   "outputs": [],
   "source": [
    "def function_name(parameters):\n",
    "  pass\n",
    "  # Code and Statements"
   ]
  },
  {
   "cell_type": "code",
   "execution_count": 3,
   "id": "b1b39dff-0310-437f-a280-8b38ebc74ef2",
   "metadata": {},
   "outputs": [
    {
     "name": "stdout",
     "output_type": "stream",
     "text": [
      "4.235294117647059\n",
      "2.9166666666666665\n"
     ]
    }
   ],
   "source": [
    "a=9\n",
    "b=8\n",
    "gmean1=(a*b)/(a+b)\n",
    "print(gmean1)\n",
    "c=5\n",
    "d=7\n",
    "gmean2=(c*d)/(c+d)\n",
    "print(gmean2)"
   ]
  },
  {
   "cell_type": "markdown",
   "id": "bae3a329-ae99-49a5-aa05-17d4eaf9059e",
   "metadata": {},
   "source": [
    "### USER DEFINED FUNCT"
   ]
  },
  {
   "cell_type": "code",
   "execution_count": 5,
   "id": "1af1386b-5824-4d20-b918-2c16d296126f",
   "metadata": {},
   "outputs": [
    {
     "name": "stdout",
     "output_type": "stream",
     "text": [
      "2.4\n",
      "29.333333333333332\n"
     ]
    }
   ],
   "source": [
    "def calculateGmean(a, b):\n",
    "    mean=(a*b)/(a+b)\n",
    "    print(mean)\n",
    "a=6\n",
    "b=4\n",
    "calculateGmean(a, b)\n",
    "c=88\n",
    "d=44\n",
    "calculateGmean(c, d)"
   ]
  },
  {
   "cell_type": "code",
   "execution_count": 11,
   "id": "5e0ddd6f-6620-49f0-9bd6-1bb199666c3d",
   "metadata": {},
   "outputs": [
    {
     "name": "stdout",
     "output_type": "stream",
     "text": [
      "First number is equal to the second number\n",
      "35.0\n",
      "First number is greater\n",
      "29.333333333333332\n"
     ]
    }
   ],
   "source": [
    "def calculateGmean(a, b):\n",
    "    mean=(a*b)/(a+b)\n",
    "    print(mean)\n",
    "a=70\n",
    "b=70\n",
    "if(a>b):\n",
    "    print(\"First number is greater\")\n",
    "elif(a==b):\n",
    "    print(\"First number is equal to the second number\")\n",
    "else:\n",
    "    print(\"Second number is greater\")\n",
    "calculateGmean(a, b)\n",
    "c=88\n",
    "d=44\n",
    "if(c>d):\n",
    "    print(\"First number is greater\")\n",
    "else:\n",
    "    print(\"Second number is greater\")\n",
    "calculateGmean(c, d)"
   ]
  },
  {
   "cell_type": "code",
   "execution_count": 12,
   "id": "a6d57204-fab5-4806-9fc8-de9e3ec823c1",
   "metadata": {},
   "outputs": [
    {
     "name": "stdout",
     "output_type": "stream",
     "text": [
      "First number is equal to the second number\n",
      "35.0\n",
      "First number is greater\n",
      "29.333333333333332\n"
     ]
    }
   ],
   "source": [
    "def calculateGmean(a, b):\n",
    "    mean=(a*b)/(a+b)\n",
    "    print(mean)\n",
    "def isGreater(a, b):\n",
    " if(a>b): \n",
    "    print(\"First number is greater\")\n",
    " elif(a==b):\n",
    "    print(\"First number is equal to the second number\")\n",
    " else:\n",
    "    print(\"Second number is greater\")\n",
    "a=70\n",
    "b=70\n",
    "isGreater(a, b)\n",
    "calculateGmean(a, b)\n",
    "c=88\n",
    "d=44\n",
    "isGreater(c, d)\n",
    "calculateGmean(c, d)"
   ]
  },
  {
   "cell_type": "code",
   "execution_count": 13,
   "id": "e92d5ccf-9909-4c07-a9d6-b8dde3184bdc",
   "metadata": {},
   "outputs": [
    {
     "name": "stdout",
     "output_type": "stream",
     "text": [
      "Hello, Sam Wilson\n"
     ]
    }
   ],
   "source": [
    "def name(fname, lname):\n",
    "    print(\"Hello,\", fname, lname)\n",
    "\n",
    "name(\"Sam\", \"Wilson\")"
   ]
  },
  {
   "cell_type": "code",
   "execution_count": 16,
   "id": "15717c45-60aa-4101-80d7-9274ca8416d9",
   "metadata": {},
   "outputs": [
    {
     "name": "stdout",
     "output_type": "stream",
     "text": [
      "Hello, Yasir Ahmed\n"
     ]
    }
   ],
   "source": [
    "def name(fname, lname):\n",
    "    print(\"Hello,\", fname, lname)\n",
    "\n",
    "name(\"Yasir\", \"Ahmed\")"
   ]
  },
  {
   "cell_type": "code",
   "execution_count": 25,
   "id": "1bebe1d0-cfd7-468e-bf5c-b009367640ec",
   "metadata": {},
   "outputs": [
    {
     "name": "stdout",
     "output_type": "stream",
     "text": [
      "0.21428571428571427\n"
     ]
    }
   ],
   "source": [
    "def calculation(a, b):\n",
    "    mean=(a*b)/(c*d)\n",
    "    print(mean)\n",
    "a=33\n",
    "b=12\n",
    "c=33\n",
    "d=56\n",
    "calculation(a, b)"
   ]
  },
  {
   "cell_type": "code",
   "execution_count": null,
   "id": "84ef3ab2-8547-4e7a-8e2f-a6eb03dad276",
   "metadata": {},
   "outputs": [],
   "source": []
  }
 ],
 "metadata": {
  "kernelspec": {
   "display_name": "Python 3 (ipykernel)",
   "language": "python",
   "name": "python3"
  },
  "language_info": {
   "codemirror_mode": {
    "name": "ipython",
    "version": 3
   },
   "file_extension": ".py",
   "mimetype": "text/x-python",
   "name": "python",
   "nbconvert_exporter": "python",
   "pygments_lexer": "ipython3",
   "version": "3.11.7"
  }
 },
 "nbformat": 4,
 "nbformat_minor": 5
}
