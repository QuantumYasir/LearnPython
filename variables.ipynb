{
 "cells": [
  {
   "cell_type": "code",
   "execution_count": 1,
   "id": "0e9aa509-116b-4dae-ac71-14fdfabd9b54",
   "metadata": {},
   "outputs": [
    {
     "name": "stdout",
     "output_type": "stream",
     "text": [
      "Hello world\n"
     ]
    }
   ],
   "source": [
    "print(\"Hello world\")"
   ]
  },
  {
   "cell_type": "code",
   "execution_count": 6,
   "id": "ef8a8b00-af1b-4a0e-9afa-2bb691051fec",
   "metadata": {},
   "outputs": [
    {
     "name": "stdout",
     "output_type": "stream",
     "text": [
      "Yasir\n"
     ]
    }
   ],
   "source": [
    "name=\"Yasir\"\n",
    "print(name)"
   ]
  },
  {
   "cell_type": "code",
   "execution_count": 3,
   "id": "d15a8ce9-ea62-473c-bd47-c456e2b54c95",
   "metadata": {},
   "outputs": [
    {
     "name": "stdout",
     "output_type": "stream",
     "text": [
      "24\n"
     ]
    }
   ],
   "source": [
    "age=\"24\"\n",
    "print(age)"
   ]
  },
  {
   "cell_type": "code",
   "execution_count": 5,
   "id": "298d7940-39e2-4805-aba6-242934599714",
   "metadata": {},
   "outputs": [
    {
     "name": "stdout",
     "output_type": "stream",
     "text": [
      "True\n"
     ]
    }
   ],
   "source": [
    "is_present=True\n",
    "print(is_present)"
   ]
  },
  {
   "cell_type": "code",
   "execution_count": 1,
   "id": "78ca8872-a7cc-42b4-812d-10ca2f97b667",
   "metadata": {},
   "outputs": [
    {
     "name": "stdout",
     "output_type": "stream",
     "text": [
      "Yasir\n",
      "24\n",
      "48\n",
      "<class 'str'>\n"
     ]
    },
    {
     "data": {
      "text/plain": [
       "2484051405616"
      ]
     },
     "execution_count": 1,
     "metadata": {},
     "output_type": "execute_result"
    }
   ],
   "source": [
    "name=\"Yasir\"\n",
    "print(name)\n",
    "age=\"24\"\n",
    "print(age)\n",
    "weight=\"48\"\n",
    "print(weight)\n",
    "print(type(name))\n",
    "id(name)"
   ]
  },
  {
   "cell_type": "code",
   "execution_count": 2,
   "id": "998bbc57-7918-4bb1-a9c5-3230c453bbcb",
   "metadata": {},
   "outputs": [
    {
     "name": "stdout",
     "output_type": "stream",
     "text": [
      "Yasir said, Today is off\n"
     ]
    }
   ],
   "source": [
    "print(\"Yasir said, Today is off\")"
   ]
  },
  {
   "cell_type": "code",
   "execution_count": 3,
   "id": "ac8c9f8d-7683-4c28-8544-3c5fe178fb24",
   "metadata": {},
   "outputs": [
    {
     "data": {
      "text/plain": [
       "2.0"
      ]
     },
     "execution_count": 3,
     "metadata": {},
     "output_type": "execute_result"
    }
   ],
   "source": [
    "6/3"
   ]
  },
  {
   "cell_type": "code",
   "execution_count": 4,
   "id": "95699783-53b0-4703-8ce3-88fcf86bef25",
   "metadata": {},
   "outputs": [
    {
     "data": {
      "text/plain": [
       "2"
      ]
     },
     "execution_count": 4,
     "metadata": {},
     "output_type": "execute_result"
    }
   ],
   "source": [
    "6//3"
   ]
  },
  {
   "cell_type": "code",
   "execution_count": 5,
   "id": "9c13431b-24ba-43f9-bc32-18c9738f424c",
   "metadata": {},
   "outputs": [
    {
     "data": {
      "text/plain": [
       "1"
      ]
     },
     "execution_count": 5,
     "metadata": {},
     "output_type": "execute_result"
    }
   ],
   "source": [
    "5//5"
   ]
  },
  {
   "cell_type": "code",
   "execution_count": 6,
   "id": "611b5c85-906d-4668-9961-de72576511a4",
   "metadata": {},
   "outputs": [
    {
     "data": {
      "text/plain": [
       "1.0"
      ]
     },
     "execution_count": 6,
     "metadata": {},
     "output_type": "execute_result"
    }
   ],
   "source": [
    "5/5"
   ]
  },
  {
   "cell_type": "code",
   "execution_count": 9,
   "id": "d23ec8a9-945e-43a1-bf4d-124399c9ab20",
   "metadata": {},
   "outputs": [
    {
     "name": "stdout",
     "output_type": "stream",
     "text": [
      "result is: 3\n"
     ]
    }
   ],
   "source": [
    "import math\n",
    "x=5/2\n",
    "y=(math.ceil(x))\n",
    "print(\"result is:\", y)"
   ]
  },
  {
   "cell_type": "code",
   "execution_count": 11,
   "id": "12598916-864e-4c3d-842e-59944410349e",
   "metadata": {},
   "outputs": [
    {
     "name": "stdout",
     "output_type": "stream",
     "text": [
      "result will be: 2\n"
     ]
    }
   ],
   "source": [
    "import math\n",
    "x=55/34\n",
    "y=(math.ceil(x))\n",
    "print(\"result will be:\",y)"
   ]
  },
  {
   "cell_type": "code",
   "execution_count": 12,
   "id": "f95c482f-f3b7-439e-afc1-ed0ccc6d86d2",
   "metadata": {},
   "outputs": [
    {
     "data": {
      "text/plain": [
       "'YasirAhmed'"
      ]
     },
     "execution_count": 12,
     "metadata": {},
     "output_type": "execute_result"
    }
   ],
   "source": [
    "\"Yasir\"+\"Ahmed\""
   ]
  },
  {
   "cell_type": "code",
   "execution_count": 14,
   "id": "1028b42f-a695-48ec-a596-5ded4fbf03f7",
   "metadata": {},
   "outputs": [
    {
     "name": "stdout",
     "output_type": "stream",
     "text": [
      "Yasir Ahmed\n"
     ]
    }
   ],
   "source": [
    "print(\"Yasir\",\"Ahmed\")"
   ]
  },
  {
   "cell_type": "code",
   "execution_count": 23,
   "id": "c1f8711b-da3c-493e-b31a-c5bff2579ebc",
   "metadata": {},
   "outputs": [
    {
     "name": "stdout",
     "output_type": "stream",
     "text": [
      "is_present\n"
     ]
    }
   ],
   "source": [
    "is_present =True\n",
    "print(\"is_present\")"
   ]
  },
  {
   "cell_type": "code",
   "execution_count": 24,
   "id": "0b81bff6-9971-42ba-ab11-a1424c4053b4",
   "metadata": {},
   "outputs": [
    {
     "name": "stdout",
     "output_type": "stream",
     "text": [
      "student name: Yasir\n",
      "student age: 24\n",
      "student weight: 48\n",
      "student is_present: True\n"
     ]
    }
   ],
   "source": [
    "print(\"student name:\" ,name)\n",
    "print(\"student age:\" ,age)\n",
    "print(\"student weight:\" ,weight)\n",
    "print(\"student is_present:\" ,is_present)"
   ]
  },
  {
   "cell_type": "code",
   "execution_count": null,
   "id": "c3707cd5-8344-46a1-8195-5dbb68900294",
   "metadata": {},
   "outputs": [],
   "source": []
  }
 ],
 "metadata": {
  "kernelspec": {
   "display_name": "Python 3 (ipykernel)",
   "language": "python",
   "name": "python3"
  },
  "language_info": {
   "codemirror_mode": {
    "name": "ipython",
    "version": 3
   },
   "file_extension": ".py",
   "mimetype": "text/x-python",
   "name": "python",
   "nbconvert_exporter": "python",
   "pygments_lexer": "ipython3",
   "version": "3.11.7"
  }
 },
 "nbformat": 4,
 "nbformat_minor": 5
}
