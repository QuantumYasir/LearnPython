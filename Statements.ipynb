{
 "cells": [
  {
   "cell_type": "markdown",
   "id": "bd74500c-bc42-4efd-b1f1-2d6ffc803061",
   "metadata": {},
   "source": [
    "### Conditional Statements"
   ]
  },
  {
   "cell_type": "code",
   "execution_count": 7,
   "id": "06469238-0fb7-46d1-86f4-f714fa5b6801",
   "metadata": {},
   "outputs": [
    {
     "name": "stdin",
     "output_type": "stream",
     "text": [
      "Enter price:  11\n"
     ]
    },
    {
     "name": "stdout",
     "output_type": "stream",
     "text": [
      "The price is: 11\n",
      "You cannot buy\n"
     ]
    }
   ],
   "source": [
    "a = int(input(\"Enter price: \"))\n",
    "print(\"The price is:\",a)\n",
    "if(a>10):\n",
    "    print(\"You cannot buy\")\n",
    "else:\n",
    "    print(\"you can buy\")"
   ]
  },
  {
   "cell_type": "code",
   "execution_count": 14,
   "id": "29229090-d0db-46b5-9a34-e5b5abc9eebf",
   "metadata": {},
   "outputs": [
    {
     "name": "stdin",
     "output_type": "stream",
     "text": [
      "Price: 230\n"
     ]
    },
    {
     "name": "stdout",
     "output_type": "stream",
     "text": [
      "You cannot buy\n"
     ]
    }
   ],
   "source": [
    "Banana=int(input(\"Price:\"))\n",
    "if(Banana==230):\n",
    "    print(\"You cannot buy\")\n",
    "elif(Banana>456):\n",
    "    print(\"You dont have to buy\")\n",
    "else:\n",
    "    print(\"you can buy\")"
   ]
  },
  {
   "cell_type": "code",
   "execution_count": 19,
   "id": "44fa30bf-7b36-481d-a23a-ca940fa8b39c",
   "metadata": {},
   "outputs": [
    {
     "name": "stdin",
     "output_type": "stream",
     "text": [
      "Price is: 180\n"
     ]
    },
    {
     "name": "stdout",
     "output_type": "stream",
     "text": [
      "You can buy\n"
     ]
    }
   ],
   "source": [
    "ApplePrice=int(input(\"Price is:\"))\n",
    "Budget=210\n",
    "if(ApplePrice>=Budget):\n",
    "    print(\"Dont add to cart\")\n",
    "elif(ApplePrice>=Budget):\n",
    "    print(\"Hello World\")\n",
    "else:\n",
    "    print(\"You can buy\")"
   ]
  },
  {
   "cell_type": "code",
   "execution_count": 21,
   "id": "3b31865a-9916-48ad-9954-35ebba0ae398",
   "metadata": {},
   "outputs": [
    {
     "name": "stdin",
     "output_type": "stream",
     "text": [
      "Price is: 210\n"
     ]
    },
    {
     "name": "stdout",
     "output_type": "stream",
     "text": [
      "Dont add to cart\n"
     ]
    }
   ],
   "source": [
    "ApplePrice=int(input(\"Price is:\"))\n",
    "Budget=210\n",
    "if(ApplePrice>=Budget):\n",
    "    print(\"Dont add to cart\")\n",
    "elif(ApplePrice==210):\n",
    "    print(\"Great\")\n",
    "elif(ApplePrice>=Budget):\n",
    "    print(\"Hello World\")\n",
    "else:\n",
    "    print(\"You can buy\")"
   ]
  },
  {
   "cell_type": "code",
   "execution_count": 22,
   "id": "aba7ce80-23c9-4351-9a18-1ef4a4d1c414",
   "metadata": {},
   "outputs": [
    {
     "name": "stdout",
     "output_type": "stream",
     "text": [
      "05:43:56\n",
      "05\n",
      "43\n",
      "56\n"
     ]
    }
   ],
   "source": [
    "import time\n",
    "timestamp = time.strftime('%H:%M:%S')\n",
    "print(timestamp)\n",
    "timestamp = time.strftime('%H')\n",
    "print(timestamp)\n",
    "timestamp = time.strftime('%M')\n",
    "print(timestamp)\n",
    "timestamp = time.strftime('%S')\n",
    "print(timestamp)\n",
    "# https://docs.python.org/3/library/time.html#time.strftime"
   ]
  },
  {
   "cell_type": "code",
   "execution_count": 12,
   "id": "ea747acb-9c8a-4175-860b-d8839a27c0b1",
   "metadata": {},
   "outputs": [
    {
     "name": "stdin",
     "output_type": "stream",
     "text": [
      "Enter your Vehicle Name:  mehran\n"
     ]
    },
    {
     "name": "stdout",
     "output_type": "stream",
     "text": [
      "The car name is mehran\n"
     ]
    }
   ],
   "source": [
    "vehicle = input(\"Enter your Vehicle Name: \")\n",
    "if(vehicle==\"mehran\"):\n",
    "    print(f'The car name is {vehicle}')\n",
    "elif(vehicle==\"toyota\"):\n",
    "    print(f'The car name is {vehicle}')\n",
    "elif(vehicle==\"suzuki\"):\n",
    "    print(f'The car name is {vehicle}')\n",
    "elif(vehicle==\"alto\"):\n",
    "    print(f'The car name is {vehicle}')\n",
    "else:\n",
    "    print(f'The car  is not available')"
   ]
  },
  {
   "cell_type": "code",
   "execution_count": 14,
   "id": "99cd8ab4-02a8-49e3-bda4-25692cc4cdfd",
   "metadata": {},
   "outputs": [
    {
     "name": "stdin",
     "output_type": "stream",
     "text": [
      "name:  mehran\n"
     ]
    },
    {
     "name": "stdout",
     "output_type": "stream",
     "text": [
      "toyota\n"
     ]
    }
   ],
   "source": [
    "vehicle= input(\"name: \")\n",
    "mehran=1\n",
    "if(vehicle==mehran):\n",
    "    print(\"Mehran is cheaper\")\n",
    "else:\n",
    "    print(\"toyota\")"
   ]
  },
  {
   "cell_type": "markdown",
   "id": "cda0e40b-7fc2-4f3f-9e53-f04a00fcee23",
   "metadata": {},
   "source": [
    "### MATCH CASE STATEMENTS"
   ]
  },
  {
   "cell_type": "code",
   "execution_count": 11,
   "id": "99081f3b-d47f-4365-89d6-70f2c347146f",
   "metadata": {},
   "outputs": [
    {
     "name": "stdin",
     "output_type": "stream",
     "text": [
      "Enter number 56\n"
     ]
    },
    {
     "name": "stdout",
     "output_type": "stream",
     "text": [
      "56 is not 90\n"
     ]
    }
   ],
   "source": [
    "x=int(input(\"Enter number\"))\n",
    "match x:\n",
    " case 0:\n",
    "     print(\"x is zero\")\n",
    " case 4:\n",
    "     print(\"x is 4\")\n",
    " case _ if x!=80:\n",
    "     print(x,\"is not 90\")\n",
    " case _ if x!=90:\n",
    "     print(x, \"is not 80\")"
   ]
  },
  {
   "cell_type": "code",
   "execution_count": null,
   "id": "09a45665-6f14-4924-9083-03dccc6c00fd",
   "metadata": {},
   "outputs": [],
   "source": []
  }
 ],
 "metadata": {
  "kernelspec": {
   "display_name": "Python 3 (ipykernel)",
   "language": "python",
   "name": "python3"
  },
  "language_info": {
   "codemirror_mode": {
    "name": "ipython",
    "version": 3
   },
   "file_extension": ".py",
   "mimetype": "text/x-python",
   "name": "python",
   "nbconvert_exporter": "python",
   "pygments_lexer": "ipython3",
   "version": "3.11.7"
  }
 },
 "nbformat": 4,
 "nbformat_minor": 5
}
