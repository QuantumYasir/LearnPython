{
 "cells": [
  {
   "cell_type": "markdown",
   "id": "6a013468-40bf-4ed4-b07f-f6d0595e7c2d",
   "metadata": {},
   "source": [
    "# Strings"
   ]
  },
  {
   "cell_type": "code",
   "execution_count": 2,
   "id": "ea65ba8f-2c32-49a8-a336-29c54321c84e",
   "metadata": {},
   "outputs": [
    {
     "name": "stdout",
     "output_type": "stream",
     "text": [
      "Yasir\n",
      "I am an introvert and would like to work alone\n"
     ]
    }
   ],
   "source": [
    "name =\"Yasir\"\n",
    "print(name)\n",
    "Aboutme=\"I am an introvert and would like to work alone\"\n",
    "print(Aboutme)"
   ]
  },
  {
   "cell_type": "code",
   "execution_count": 3,
   "id": "fac4a147-07d6-408d-bbfb-c548dcf6fa7a",
   "metadata": {},
   "outputs": [
    {
     "name": "stdout",
     "output_type": "stream",
     "text": [
      "Saqib\n",
      "He is currently studying IT from SMI Univrsity and in a 5th semester\n"
     ]
    }
   ],
   "source": [
    "Friendname= \"Saqib\"\n",
    "print(Friendname)\n",
    "AboutHim=\"He is currently studying IT from SMI Univrsity and in a 5th semester\"\n",
    "print(AboutHim)"
   ]
  },
  {
   "cell_type": "markdown",
   "id": "d33a0888-983d-455f-a247-ef95e466c701",
   "metadata": {},
   "source": [
    "# FOR LOOP"
   ]
  },
  {
   "cell_type": "code",
   "execution_count": 5,
   "id": "8ebceaa6-a0e2-430a-8df6-b9dea494590d",
   "metadata": {},
   "outputs": [
    {
     "name": "stdout",
     "output_type": "stream",
     "text": [
      "Y\n",
      "a\n",
      "s\n",
      "i\n",
      "r\n"
     ]
    }
   ],
   "source": [
    "for character in name:\n",
    "    print(character)"
   ]
  },
  {
   "cell_type": "code",
   "execution_count": 8,
   "id": "e475e267-9f04-479e-84c0-32fcc1546cf9",
   "metadata": {},
   "outputs": [
    {
     "name": "stdout",
     "output_type": "stream",
     "text": [
      "Y\n",
      "a\n",
      "s\n",
      "i\n",
      "r\n"
     ]
    }
   ],
   "source": [
    "print(name[0])\n",
    "print(name[1])\n",
    "print(name[2])\n",
    "print(name[3])\n",
    "print(name[4])"
   ]
  },
  {
   "cell_type": "code",
   "execution_count": 10,
   "id": "9d55bc29-ca34-4d32-80f0-b00579857310",
   "metadata": {},
   "outputs": [
    {
     "name": "stdout",
     "output_type": "stream",
     "text": [
      "Sindh Madressatul Islam University is a university in Karachi, Sindh, Pakistan. Founded in 1885, it is one of the oldest educational institutions in South Asia.\n"
     ]
    }
   ],
   "source": [
    "SMIU= '''Sindh Madressatul Islam University is a university in Karachi, Sindh, Pakistan. Founded in 1885, it is one of the oldest educational institutions in South Asia.'''\n",
    "print(SMIU)"
   ]
  },
  {
   "cell_type": "markdown",
   "id": "d8a357ac-fae7-4838-a2f0-12e1aed88679",
   "metadata": {},
   "source": [
    "### STRING SLICING"
   ]
  },
  {
   "cell_type": "code",
   "execution_count": 22,
   "id": "fd73d111-a030-424c-b32b-23f8a6a81989",
   "metadata": {},
   "outputs": [
    {
     "name": "stdout",
     "output_type": "stream",
     "text": [
      "Yasir\n",
      "11\n"
     ]
    }
   ],
   "source": [
    "name=\"Yasir,Ahmed\"\n",
    "print(name[0:5])\n",
    "YasirLen= len(name)\n",
    "print(YasirLen)"
   ]
  },
  {
   "cell_type": "code",
   "execution_count": 23,
   "id": "6034170d-01b6-4aac-a802-deb9ead87b35",
   "metadata": {},
   "outputs": [
    {
     "name": "stdout",
     "output_type": "stream",
     "text": [
      "m\n"
     ]
    }
   ],
   "source": [
    "print(name[-3:-2])"
   ]
  },
  {
   "cell_type": "code",
   "execution_count": 26,
   "id": "12144493-3120-405d-8282-c77186fe9cb6",
   "metadata": {},
   "outputs": [
    {
     "name": "stdout",
     "output_type": "stream",
     "text": [
      "e\n"
     ]
    }
   ],
   "source": [
    "print(name[-2:-1])"
   ]
  },
  {
   "cell_type": "code",
   "execution_count": 28,
   "id": "beb19b9b-ca78-4932-8a04-923b613cc959",
   "metadata": {},
   "outputs": [
    {
     "name": "stdout",
     "output_type": "stream",
     "text": [
      "11\n"
     ]
    }
   ],
   "source": [
    "print(len(name))"
   ]
  },
  {
   "cell_type": "markdown",
   "id": "0c75f434-2c88-408c-a1fb-772952c00168",
   "metadata": {},
   "source": [
    "### STRING METHODS IN PYTHON\n",
    "### SRINGS ARE IMMUTABLE \n",
    "### upper , lower cases"
   ]
  },
  {
   "cell_type": "code",
   "execution_count": 32,
   "id": "16fb376d-bd3b-469b-89d8-437bfabcbfe8",
   "metadata": {},
   "outputs": [
    {
     "name": "stdout",
     "output_type": "stream",
     "text": [
      "YASIR\n"
     ]
    }
   ],
   "source": [
    "a=\"Yasir\"\n",
    "print(a.upper())"
   ]
  },
  {
   "cell_type": "code",
   "execution_count": 33,
   "id": "54ee9f5f-aa7d-40fb-bc89-a4567345e0a2",
   "metadata": {},
   "outputs": [
    {
     "name": "stdout",
     "output_type": "stream",
     "text": [
      "yasir\n"
     ]
    }
   ],
   "source": [
    "print(a.lower())"
   ]
  },
  {
   "cell_type": "code",
   "execution_count": 40,
   "id": "59f1be3b-4fd0-45d8-8030-fbdecc0c7913",
   "metadata": {},
   "outputs": [
    {
     "name": "stdout",
     "output_type": "stream",
     "text": [
      "yasir! !!!!!!\n"
     ]
    }
   ],
   "source": [
    "a=\"yasir! !!!!!!\"\n",
    "print(a)"
   ]
  },
  {
   "cell_type": "markdown",
   "id": "4d4d4cea-69bf-44a1-b8d9-11d65b84b2a3",
   "metadata": {},
   "source": [
    "### rstrip method"
   ]
  },
  {
   "cell_type": "code",
   "execution_count": 36,
   "id": "9024f6a2-0184-447d-b3e0-17a345ef27eb",
   "metadata": {},
   "outputs": [
    {
     "name": "stdout",
     "output_type": "stream",
     "text": [
      "yasir\n"
     ]
    }
   ],
   "source": [
    "print(a.rstrip(\"!\"))"
   ]
  },
  {
   "cell_type": "markdown",
   "id": "5dc56c1e-1cf1-4252-9905-cd6a14995651",
   "metadata": {},
   "source": [
    "### Replace"
   ]
  },
  {
   "cell_type": "code",
   "execution_count": 39,
   "id": "4796780f-6008-4930-a954-d8fc59452171",
   "metadata": {},
   "outputs": [
    {
     "name": "stdout",
     "output_type": "stream",
     "text": [
      "Ahmed!!!!!!!\n",
      "yasir\n"
     ]
    }
   ],
   "source": [
    "print(a.replace(\"yasir\" , \"Ahmed\"))\n",
    "print(a.rstrip(\"!\"))"
   ]
  },
  {
   "cell_type": "markdown",
   "id": "c2fad495-17ce-4ada-a339-a26aac2f01e4",
   "metadata": {},
   "source": [
    "### SPLIT"
   ]
  },
  {
   "cell_type": "code",
   "execution_count": 42,
   "id": "a0dcce87-95d2-4a8c-9522-63d5961efa57",
   "metadata": {},
   "outputs": [
    {
     "name": "stdout",
     "output_type": "stream",
     "text": [
      "['yasir!', '!!!!!!']\n"
     ]
    }
   ],
   "source": [
    "print(a.split(\" \"))"
   ]
  },
  {
   "cell_type": "markdown",
   "id": "4561e27e-1687-4068-ab4b-e565fe893a80",
   "metadata": {},
   "source": [
    "### Capitalize"
   ]
  },
  {
   "cell_type": "code",
   "execution_count": 45,
   "id": "81751088-3246-407f-bd2a-95e592e0c0d4",
   "metadata": {},
   "outputs": [
    {
     "name": "stdout",
     "output_type": "stream",
     "text": [
      "Introduction to python\n"
     ]
    }
   ],
   "source": [
    "b=\"introduction to python\"\n",
    "print(b.capitalize())"
   ]
  },
  {
   "cell_type": "markdown",
   "id": "5fa01224-11d5-45af-8d6f-7c046e800a26",
   "metadata": {},
   "source": [
    "### Center"
   ]
  },
  {
   "cell_type": "code",
   "execution_count": 48,
   "id": "e1feea1b-2950-4e1c-a849-cfdd4f42309a",
   "metadata": {},
   "outputs": [
    {
     "name": "stdout",
     "output_type": "stream",
     "text": [
      "                        Weelcome to the jungle                        \n"
     ]
    }
   ],
   "source": [
    "str1=\"Weelcome to the jungle\"\n",
    "print(str1.center(70))"
   ]
  },
  {
   "cell_type": "markdown",
   "id": "5dddb0f0-bdb3-4f8d-8cd9-5750929b4faf",
   "metadata": {},
   "source": [
    "### Count"
   ]
  },
  {
   "cell_type": "code",
   "execution_count": 49,
   "id": "148fa3e2-d67b-430b-b0a1-b68bb72ce1be",
   "metadata": {},
   "outputs": [
    {
     "name": "stdout",
     "output_type": "stream",
     "text": [
      "0\n"
     ]
    }
   ],
   "source": [
    "print(a.count(\"yasir\"))"
   ]
  },
  {
   "cell_type": "markdown",
   "id": "9972a5f0-3e55-4928-a8e5-1fff53c419b8",
   "metadata": {},
   "source": [
    "### endswith"
   ]
  },
  {
   "cell_type": "code",
   "execution_count": 50,
   "id": "d0186bf5-2b0f-425c-846c-b4b75aaa32f8",
   "metadata": {},
   "outputs": [
    {
     "name": "stdout",
     "output_type": "stream",
     "text": [
      "True\n"
     ]
    }
   ],
   "source": [
    "str2=\"Welcome to SMI university!!!\"\n",
    "print(str2.endswith(\"!!!\"))"
   ]
  },
  {
   "cell_type": "markdown",
   "id": "bb9a9f86-dd83-4702-b41e-05cca9998c0c",
   "metadata": {},
   "source": [
    "### find"
   ]
  },
  {
   "cell_type": "code",
   "execution_count": 51,
   "id": "ab5d8bfc-b3d7-435a-88c8-bf9b720785d5",
   "metadata": {},
   "outputs": [
    {
     "name": "stdout",
     "output_type": "stream",
     "text": [
      "8\n"
     ]
    }
   ],
   "source": [
    "print(str2.find(\"to\"))"
   ]
  },
  {
   "cell_type": "markdown",
   "id": "a55692c3-065e-4ec9-b174-10282270d12d",
   "metadata": {},
   "source": [
    "### index"
   ]
  },
  {
   "cell_type": "code",
   "execution_count": 52,
   "id": "1f48d27e-c75a-442d-a26c-dfcbff304a7e",
   "metadata": {},
   "outputs": [
    {
     "name": "stdout",
     "output_type": "stream",
     "text": [
      "8\n"
     ]
    }
   ],
   "source": [
    "print(str2.index(\"to\"))"
   ]
  },
  {
   "cell_type": "markdown",
   "id": "16e08736-4b51-462b-a5a3-a975a02f8794",
   "metadata": {},
   "source": [
    "### isalnum A-Z a-z 0-9"
   ]
  },
  {
   "cell_type": "code",
   "execution_count": 53,
   "id": "9047b2bd-ed32-4649-afeb-79535e37a87e",
   "metadata": {},
   "outputs": [
    {
     "name": "stdout",
     "output_type": "stream",
     "text": [
      "False\n"
     ]
    }
   ],
   "source": [
    "print(str2.isalnum())"
   ]
  },
  {
   "cell_type": "markdown",
   "id": "cb56f92a-150b-4006-ae46-eb3b18db5a94",
   "metadata": {},
   "source": [
    "### isalpha A-Z a-z"
   ]
  },
  {
   "cell_type": "code",
   "execution_count": 54,
   "id": "9eba8732-9f80-453d-b0a8-8af10b4e40a9",
   "metadata": {},
   "outputs": [
    {
     "name": "stdout",
     "output_type": "stream",
     "text": [
      "True\n"
     ]
    }
   ],
   "source": [
    "c=\"Saqib\"\n",
    "print(c.isalpha())"
   ]
  },
  {
   "cell_type": "markdown",
   "id": "d2b291de-e4a2-4c6a-9a8d-eca6f5e9c0f3",
   "metadata": {},
   "source": [
    "### islower it checks if all characters  are in lower case"
   ]
  },
  {
   "cell_type": "code",
   "execution_count": 55,
   "id": "7253d789-d468-425a-aa94-a6f5b95b2cca",
   "metadata": {},
   "outputs": [
    {
     "name": "stdout",
     "output_type": "stream",
     "text": [
      "False\n"
     ]
    }
   ],
   "source": [
    "print(c.islower())"
   ]
  },
  {
   "cell_type": "markdown",
   "id": "154128e0-9126-4c3c-a3f6-04b21ef0855d",
   "metadata": {},
   "source": [
    "### isprintable  checks if all characters are printable \n",
    "### /n is the example of non printable"
   ]
  },
  {
   "cell_type": "code",
   "execution_count": 57,
   "id": "dccf5f94-e53f-4c51-a86c-775a049687ca",
   "metadata": {},
   "outputs": [
    {
     "name": "stdout",
     "output_type": "stream",
     "text": [
      "True\n"
     ]
    }
   ],
   "source": [
    "print(c.isprintable())"
   ]
  },
  {
   "cell_type": "code",
   "execution_count": 58,
   "id": "b6f70f1a-6575-440c-9de5-40a8d686f401",
   "metadata": {},
   "outputs": [
    {
     "name": "stdout",
     "output_type": "stream",
     "text": [
      "True\n"
     ]
    }
   ],
   "source": [
    "x=\"845dfshdsjglk/n idfisdhhjksdf\"\n",
    "print(x.isprintable())"
   ]
  },
  {
   "cell_type": "markdown",
   "id": "9ec7114e-8ab4-41b4-80c6-c8f86ffcd91d",
   "metadata": {},
   "source": [
    "# isspace returns true if you used white spaces"
   ]
  },
  {
   "cell_type": "code",
   "execution_count": 59,
   "id": "ee5b80e4-14c9-4b70-904f-e97ba7d72cda",
   "metadata": {},
   "outputs": [
    {
     "name": "stdout",
     "output_type": "stream",
     "text": [
      "False\n"
     ]
    }
   ],
   "source": [
    "print(x.isspace())"
   ]
  },
  {
   "cell_type": "code",
   "execution_count": 60,
   "id": "c3542e21-c6da-4421-be87-eeca73ccbe52",
   "metadata": {},
   "outputs": [
    {
     "name": "stdout",
     "output_type": "stream",
     "text": [
      "False\n"
     ]
    }
   ],
   "source": [
    "print(str2.isspace())"
   ]
  },
  {
   "cell_type": "code",
   "execution_count": 61,
   "id": "0f1a4da6-0a0c-4024-97fa-819b48bc17ee",
   "metadata": {},
   "outputs": [
    {
     "name": "stdout",
     "output_type": "stream",
     "text": [
      "True\n"
     ]
    }
   ],
   "source": [
    "y=\"      \"\n",
    "print(y.isspace())"
   ]
  },
  {
   "cell_type": "markdown",
   "id": "aaf9ff1c-437a-4490-adda-9b75b14b5d12",
   "metadata": {},
   "source": [
    "### istitle\n",
    "### returns true if first letter of character is captalize"
   ]
  },
  {
   "cell_type": "code",
   "execution_count": 62,
   "id": "fe85b427-1c58-4fc8-8ae5-5293bbd28e89",
   "metadata": {},
   "outputs": [
    {
     "name": "stdout",
     "output_type": "stream",
     "text": [
      "False\n"
     ]
    }
   ],
   "source": [
    "print(x.istitle())"
   ]
  },
  {
   "cell_type": "markdown",
   "id": "7bc23fd9-2b8c-448d-80f3-edd66c21ca9d",
   "metadata": {},
   "source": [
    "### swapcase convert upper to lower and lower to upper case"
   ]
  },
  {
   "cell_type": "code",
   "execution_count": 63,
   "id": "5d77f4eb-2deb-4c02-a640-c6cb924f5461",
   "metadata": {},
   "outputs": [
    {
     "name": "stdout",
     "output_type": "stream",
     "text": [
      "my NAMME IS YASIR AHMED\n"
     ]
    }
   ],
   "source": [
    "f=\"MY namme is yasir ahmed\"\n",
    "print(f.swapcase())"
   ]
  },
  {
   "cell_type": "markdown",
   "id": "32e8a952-163f-464e-acfe-479a9b9e000a",
   "metadata": {},
   "source": [
    "### title case capitalize each word"
   ]
  },
  {
   "cell_type": "code",
   "execution_count": 64,
   "id": "f59d7504-8b18-46a8-b8e6-01815f0222b2",
   "metadata": {},
   "outputs": [
    {
     "name": "stdout",
     "output_type": "stream",
     "text": [
      "My Namme Is Yasir Ahmed\n"
     ]
    }
   ],
   "source": [
    "print(f.title())"
   ]
  },
  {
   "cell_type": "code",
   "execution_count": null,
   "id": "bc3ad86a-7474-405f-ac17-f40dc0b1d472",
   "metadata": {},
   "outputs": [],
   "source": []
  }
 ],
 "metadata": {
  "kernelspec": {
   "display_name": "Python 3 (ipykernel)",
   "language": "python",
   "name": "python3"
  },
  "language_info": {
   "codemirror_mode": {
    "name": "ipython",
    "version": 3
   },
   "file_extension": ".py",
   "mimetype": "text/x-python",
   "name": "python",
   "nbconvert_exporter": "python",
   "pygments_lexer": "ipython3",
   "version": "3.11.7"
  }
 },
 "nbformat": 4,
 "nbformat_minor": 5
}
