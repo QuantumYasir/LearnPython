{
 "cells": [
  {
   "cell_type": "code",
   "execution_count": 1,
   "id": "1a64b457-e903-4bcb-ab6a-fef299ea37fc",
   "metadata": {},
   "outputs": [],
   "source": [
    "personal_bio={\"first_name\":\"Yasir\",\n",
    "              \"last_name\":\"Ahmed\",\n",
    "              \"address\":\"Karach,Pakistan\"}"
   ]
  },
  {
   "cell_type": "code",
   "execution_count": 2,
   "id": "60959bfb-f7a1-46cd-b3a6-62651e70dd6f",
   "metadata": {},
   "outputs": [
    {
     "data": {
      "text/plain": [
       "dict_keys(['first_name', 'last_name', 'address'])"
      ]
     },
     "execution_count": 2,
     "metadata": {},
     "output_type": "execute_result"
    }
   ],
   "source": [
    "personal_bio.keys()"
   ]
  },
  {
   "cell_type": "code",
   "execution_count": 3,
   "id": "19c51616-0a56-4f59-a57c-37f0865cf704",
   "metadata": {},
   "outputs": [
    {
     "data": {
      "text/plain": [
       "dict_values(['Yasir', 'Ahmed', 'Karach,Pakistan'])"
      ]
     },
     "execution_count": 3,
     "metadata": {},
     "output_type": "execute_result"
    }
   ],
   "source": [
    "personal_bio.values()"
   ]
  },
  {
   "cell_type": "code",
   "execution_count": 4,
   "id": "763c8566-8497-45ba-a55d-39003ced4df9",
   "metadata": {},
   "outputs": [
    {
     "data": {
      "text/plain": [
       "dict_items([('first_name', 'Yasir'), ('last_name', 'Ahmed'), ('address', 'Karach,Pakistan')])"
      ]
     },
     "execution_count": 4,
     "metadata": {},
     "output_type": "execute_result"
    }
   ],
   "source": [
    "personal_bio.items()"
   ]
  },
  {
   "cell_type": "code",
   "execution_count": 9,
   "id": "1da172ce-a01a-4963-9370-d31812b84a26",
   "metadata": {},
   "outputs": [
    {
     "name": "stdout",
     "output_type": "stream",
     "text": [
      " keys is  \"first_name\" and values is \"Yasir\"\n",
      " keys is  \"last_name\" and values is \"Ahmed\"\n",
      " keys is  \"address\" and values is \"Karach,Pakistan\"\n"
     ]
    }
   ],
   "source": [
    "for key, value in personal_bio.items():\n",
    "    print(f\" keys is  \\\"{key}\\\" and values is \\\"{value}\\\"\")"
   ]
  },
  {
   "cell_type": "code",
   "execution_count": 10,
   "id": "1a35ee48-bf71-47ce-bcbc-4eec9f93d3a4",
   "metadata": {},
   "outputs": [
    {
     "data": {
      "text/plain": [
       "'first_name'"
      ]
     },
     "execution_count": 10,
     "metadata": {},
     "output_type": "execute_result"
    }
   ],
   "source": [
    "list(personal_bio.items())[0][0]"
   ]
  },
  {
   "cell_type": "code",
   "execution_count": 11,
   "id": "8a453c61-4d28-4ad0-a60f-6d2a78022292",
   "metadata": {},
   "outputs": [
    {
     "data": {
      "text/plain": [
       "{'first_name': 'Yasir', 'last_name': 'Ahmed', 'address': 'Karach,Pakistan'}"
      ]
     },
     "execution_count": 11,
     "metadata": {},
     "output_type": "execute_result"
    }
   ],
   "source": [
    "personal_bio"
   ]
  },
  {
   "cell_type": "code",
   "execution_count": 13,
   "id": "14e967c5-9dfb-444e-9723-bbbbd2617d06",
   "metadata": {},
   "outputs": [],
   "source": [
    "bio_list=[personal_bio]"
   ]
  },
  {
   "cell_type": "code",
   "execution_count": 14,
   "id": "cc784e06-4beb-4af3-a8e8-78b51bd814e1",
   "metadata": {},
   "outputs": [
    {
     "data": {
      "text/plain": [
       "[{'first_name': 'Yasir', 'last_name': 'Ahmed', 'address': 'Karach,Pakistan'}]"
      ]
     },
     "execution_count": 14,
     "metadata": {},
     "output_type": "execute_result"
    }
   ],
   "source": [
    "bio_list"
   ]
  },
  {
   "cell_type": "code",
   "execution_count": 18,
   "id": "a5a40ed3-40f1-41b3-ba41-c5d348a55efa",
   "metadata": {},
   "outputs": [
    {
     "name": "stdout",
     "output_type": "stream",
     "text": [
      "first_name\n",
      "last_name\n",
      "address\n"
     ]
    }
   ],
   "source": [
    "for a in personal_bio:\n",
    "    print(a)"
   ]
  },
  {
   "cell_type": "code",
   "execution_count": 20,
   "id": "2a6b3a42-573e-408e-8a1a-2339d46674e2",
   "metadata": {},
   "outputs": [],
   "source": [
    "bio_list.append(personal_bio)"
   ]
  },
  {
   "cell_type": "code",
   "execution_count": 21,
   "id": "069fdd97-14e1-4329-8939-b17979e96828",
   "metadata": {},
   "outputs": [
    {
     "data": {
      "text/plain": [
       "[{'first_name': 'Yasir', 'last_name': 'Ahmed', 'address': 'Karach,Pakistan'},\n",
       " {'first_name': 'Yasir', 'last_name': 'Ahmed', 'address': 'Karach,Pakistan'}]"
      ]
     },
     "execution_count": 21,
     "metadata": {},
     "output_type": "execute_result"
    }
   ],
   "source": [
    "bio_list"
   ]
  },
  {
   "cell_type": "code",
   "execution_count": 23,
   "id": "a58ce8a3-5169-4835-a2b4-77fc5dbcd94e",
   "metadata": {},
   "outputs": [
    {
     "data": {
      "text/plain": [
       "2"
      ]
     },
     "execution_count": 23,
     "metadata": {},
     "output_type": "execute_result"
    }
   ],
   "source": [
    "len(bio_list)"
   ]
  },
  {
   "cell_type": "code",
   "execution_count": 26,
   "id": "72b84490-f848-49bd-a017-587c76d1ae83",
   "metadata": {},
   "outputs": [],
   "source": [
    "customers= {0:\n",
    "    {'first name': 'David',\n",
    "    'last name': 'Elliott',\n",
    "    'address': '4803 Wellesley St.',\n",
    "    'city': 'LA'},\n",
    "    1:{'first name': 'Qasim',\n",
    "    'last name': 'Hassan',\n",
    "    'address': 'Near SMIT',\n",
    "    'city': 'Karachi'},\n",
    "    2:{'first name': 'Hassan',\n",
    "    'last name': 'Khan',\n",
    "    'address': 'Johar town',\n",
    "    'city': 'Lahore'}}"
   ]
  },
  {
   "cell_type": "code",
   "execution_count": 27,
   "id": "8944fee8-1d4e-4fe5-88a8-f6a0e0945e01",
   "metadata": {},
   "outputs": [
    {
     "data": {
      "text/plain": [
       "{0: {'first name': 'David',\n",
       "  'last name': 'Elliott',\n",
       "  'address': '4803 Wellesley St.',\n",
       "  'city': 'LA'},\n",
       " 1: {'first name': 'Qasim',\n",
       "  'last name': 'Hassan',\n",
       "  'address': 'Near SMIT',\n",
       "  'city': 'Karachi'},\n",
       " 2: {'first name': 'Hassan',\n",
       "  'last name': 'Khan',\n",
       "  'address': 'Johar town',\n",
       "  'city': 'Lahore'}}"
      ]
     },
     "execution_count": 27,
     "metadata": {},
     "output_type": "execute_result"
    }
   ],
   "source": [
    "customers"
   ]
  },
  {
   "cell_type": "code",
   "execution_count": 42,
   "id": "ccd1ca40-b0cb-4efe-925c-9dee2432f3bb",
   "metadata": {},
   "outputs": [
    {
     "name": "stdout",
     "output_type": "stream",
     "text": [
      "0\n",
      "1\n",
      "2\n",
      "Johar town\n"
     ]
    }
   ],
   "source": [
    "for customer in customers:\n",
    "    print(customer)\n",
    "print(customers[customer]['address'])"
   ]
  },
  {
   "cell_type": "code",
   "execution_count": 45,
   "id": "726067cd-ce27-4121-b610-a758172ca0dd",
   "metadata": {},
   "outputs": [
    {
     "name": "stdout",
     "output_type": "stream",
     "text": [
      "4803 Wellesley St.\n",
      "Near SMIT\n",
      "Johar town\n"
     ]
    }
   ],
   "source": [
    "for i in range(len(customers)):\n",
    "    print(customers[i][\"address\"])"
   ]
  },
  {
   "cell_type": "code",
   "execution_count": 51,
   "id": "ea51a30c-82f1-4339-a428-19a9ebb8355c",
   "metadata": {},
   "outputs": [
    {
     "name": "stdout",
     "output_type": "stream",
     "text": [
      "{0: {'first name': 'David', 'last name': 'Elliott', 'address': '4803 Wellesley St.', 'city': 'LA'}, 1: {'first name': 'Qasim', 'last name': 'Hassan', 'address': 'Near SMIT', 'city': 'Karachi'}, 2: {'first name': 'Hassan', 'last name': 'Khan', 'address': 'Johar town', 'city': 'Lahore'}}\n",
      "{0: {'first name': 'David', 'last name': 'Elliott', 'address': '4803 Wellesley St.', 'city': 'LA'}, 1: {'first name': 'Qasim', 'last name': 'Hassan', 'address': 'Near SMIT', 'city': 'Karachi'}, 2: {'first name': 'Hassan', 'last name': 'Khan', 'address': 'Johar town', 'city': 'Lahore'}}\n",
      "{0: {'first name': 'David', 'last name': 'Elliott', 'address': '4803 Wellesley St.', 'city': 'LA'}, 1: {'first name': 'Qasim', 'last name': 'Hassan', 'address': 'Near SMIT', 'city': 'Karachi'}, 2: {'first name': 'Hassan', 'last name': 'Khan', 'address': 'Johar town', 'city': 'Lahore'}}\n"
     ]
    }
   ],
   "source": [
    "for i in customers.values():\n",
    "    print(customers)"
   ]
  },
  {
   "cell_type": "code",
   "execution_count": 55,
   "id": "9c4587d5-3858-4ec8-b960-0dab689558ed",
   "metadata": {},
   "outputs": [
    {
     "name": "stdout",
     "output_type": "stream",
     "text": [
      "{0: {'first name': 'David', 'last name': 'Elliott', 'address': '4803 Wellesley St.', 'city': 'LA'}, 1: {'first name': 'Qasim', 'last name': 'Hassan', 'address': 'Near SMIT', 'city': 'Karachi'}, 2: {'first name': 'Hassan', 'last name': 'Khan', 'address': 'Johar town', 'city': 'Lahore'}}\n",
      "{0: {'first name': 'David', 'last name': 'Elliott', 'address': '4803 Wellesley St.', 'city': 'LA'}, 1: {'first name': 'Qasim', 'last name': 'Hassan', 'address': 'Near SMIT', 'city': 'Karachi'}, 2: {'first name': 'Hassan', 'last name': 'Khan', 'address': 'Johar town', 'city': 'Lahore'}}\n",
      "{0: {'first name': 'David', 'last name': 'Elliott', 'address': '4803 Wellesley St.', 'city': 'LA'}, 1: {'first name': 'Qasim', 'last name': 'Hassan', 'address': 'Near SMIT', 'city': 'Karachi'}, 2: {'first name': 'Hassan', 'last name': 'Khan', 'address': 'Johar town', 'city': 'Lahore'}}\n"
     ]
    }
   ],
   "source": [
    "for i in customers.items():\n",
    "    print(customers)"
   ]
  },
  {
   "cell_type": "code",
   "execution_count": 56,
   "id": "7d83606b-097f-4393-aa9d-400977217f5c",
   "metadata": {},
   "outputs": [
    {
     "name": "stdout",
     "output_type": "stream",
     "text": [
      "0\n",
      "{'first name': 'David', 'last name': 'Elliott', 'address': '4803 Wellesley St.', 'city': 'LA'}\n",
      "{'first name': 'David', 'last name': 'Elliott', 'address': '4803 Wellesley St.', 'city': 'LA'}\n",
      "1\n",
      "{'first name': 'Qasim', 'last name': 'Hassan', 'address': 'Near SMIT', 'city': 'Karachi'}\n",
      "{'first name': 'Qasim', 'last name': 'Hassan', 'address': 'Near SMIT', 'city': 'Karachi'}\n",
      "2\n",
      "{'first name': 'Hassan', 'last name': 'Khan', 'address': 'Johar town', 'city': 'Lahore'}\n",
      "{'first name': 'Hassan', 'last name': 'Khan', 'address': 'Johar town', 'city': 'Lahore'}\n"
     ]
    }
   ],
   "source": [
    "for key, value in customers.items():\n",
    "    print(key)\n",
    "    print(value)\n",
    "    print(customers[key])"
   ]
  },
  {
   "cell_type": "code",
   "execution_count": 61,
   "id": "2d10d831-3de9-4612-a530-9365a8979ef3",
   "metadata": {},
   "outputs": [
    {
     "name": "stdout",
     "output_type": "stream",
     "text": [
      " key is:0\n",
      " value is:{'first name': 'David', 'last name': 'Elliott', 'address': '4803 Wellesley St.', 'city': 'LA'}\n",
      " address of key0 is 4803 Wellesley St.\n",
      "---------\n",
      "value is:{'first name': 'David', 'last name': 'Elliott', 'address': '4803 Wellesley St.', 'city': 'LA'}\n",
      " address of value {'first name': 'David', 'last name': 'Elliott', 'address': '4803 Wellesley St.', 'city': 'LA'} is 4803 Wellesley St.\n",
      "***** loop ends****\n",
      " key is:1\n",
      " value is:{'first name': 'Qasim', 'last name': 'Hassan', 'address': 'Near SMIT', 'city': 'Karachi'}\n",
      " address of key1 is Near SMIT\n",
      "---------\n",
      "value is:{'first name': 'Qasim', 'last name': 'Hassan', 'address': 'Near SMIT', 'city': 'Karachi'}\n",
      " address of value {'first name': 'Qasim', 'last name': 'Hassan', 'address': 'Near SMIT', 'city': 'Karachi'} is Near SMIT\n",
      "***** loop ends****\n",
      " key is:2\n",
      " value is:{'first name': 'Hassan', 'last name': 'Khan', 'address': 'Johar town', 'city': 'Lahore'}\n",
      " address of key2 is Johar town\n",
      "---------\n",
      "value is:{'first name': 'Hassan', 'last name': 'Khan', 'address': 'Johar town', 'city': 'Lahore'}\n",
      " address of value {'first name': 'Hassan', 'last name': 'Khan', 'address': 'Johar town', 'city': 'Lahore'} is Johar town\n",
      "***** loop ends****\n"
     ]
    }
   ],
   "source": [
    "for key, value in customers.items():\n",
    "    print(f\" key is:{key}\")\n",
    "    print(f\" value is:{value}\")\n",
    "    #extracting address using keys \n",
    "    print(f\" address of key{key} is {customers[key]['address']}\")\n",
    "    print(\"---------\")\n",
    "    #extracting address using values\n",
    "    print(f\"value is:{value}\")\n",
    "    print(f\" address of value {value} is {value['address']}\")\n",
    "    print(\"***** loop ends****\")"
   ]
  },
  {
   "cell_type": "code",
   "execution_count": 66,
   "id": "3b115cb5-9c7e-4448-bcc7-3b716bc79482",
   "metadata": {},
   "outputs": [],
   "source": [
    "saylani_dict={\"python\":{\"timings\":\"MWF\",\"Instructor\":\"ayan\"},\n",
    "              \"data eng\":{\"timings\":\"TWT\",\"Instructor\":\"Sir\"}\n",
    "                }"
   ]
  },
  {
   "cell_type": "code",
   "execution_count": 68,
   "id": "9477a38e-1163-4860-8df5-08e425df1c9d",
   "metadata": {},
   "outputs": [
    {
     "name": "stdout",
     "output_type": "stream",
     "text": [
      "python {'timings': 'MWF', 'Instructor': 'ayan'}\n",
      "data eng {'timings': 'TWT', 'Instructor': 'Sir'}\n"
     ]
    }
   ],
   "source": [
    "for key, value in saylani_dict.items():\n",
    "    print(key, value)"
   ]
  },
  {
   "cell_type": "code",
   "execution_count": 69,
   "id": "4380f3cb-b858-4770-b176-91b8ca5e1977",
   "metadata": {},
   "outputs": [
    {
     "name": "stdout",
     "output_type": "stream",
     "text": [
      "python\n",
      "data eng\n"
     ]
    }
   ],
   "source": [
    "for key in saylani_dict.keys():\n",
    "    print(key)"
   ]
  },
  {
   "cell_type": "code",
   "execution_count": 71,
   "id": "9f18e8ed-2bc2-4d25-af77-17df819bee74",
   "metadata": {},
   "outputs": [
    {
     "name": "stdout",
     "output_type": "stream",
     "text": [
      "{'timings': 'MWF', 'Instructor': 'ayan'}\n",
      "{'timings': 'TWT', 'Instructor': 'Sir'}\n"
     ]
    }
   ],
   "source": [
    "for value in saylani_dict.values():\n",
    "    print(value)"
   ]
  },
  {
   "cell_type": "code",
   "execution_count": 72,
   "id": "f9edfa9a-d3a3-4500-8788-865566fe51ea",
   "metadata": {},
   "outputs": [
    {
     "data": {
      "text/plain": [
       "dict_keys(['python', 'data eng'])"
      ]
     },
     "execution_count": 72,
     "metadata": {},
     "output_type": "execute_result"
    }
   ],
   "source": [
    "saylani_dict.keys()"
   ]
  },
  {
   "cell_type": "code",
   "execution_count": 77,
   "id": "1596a5f3-6d2c-43de-b7d4-35eb7c69608a",
   "metadata": {},
   "outputs": [
    {
     "name": "stdout",
     "output_type": "stream",
     "text": [
      " key is:python\n",
      " value is:{'timings': 'MWF', 'Instructor': 'ayan'}\n",
      " key is:data eng\n",
      " value is:{'timings': 'TWT', 'Instructor': 'Sir'}\n"
     ]
    }
   ],
   "source": [
    "for key, value in saylani_dict.items():\n",
    "    print(f\" key is:{key}\")\n",
    "    print(f\" value is:{value}\")"
   ]
  },
  {
   "cell_type": "markdown",
   "id": "e79592dc-f8b8-4c3a-8444-0b338696a454",
   "metadata": {},
   "source": [
    "# FUNCTIONS"
   ]
  },
  {
   "cell_type": "code",
   "execution_count": 79,
   "id": "98843a7c-de87-4a10-9e5e-0aeb1e893843",
   "metadata": {},
   "outputs": [
    {
     "name": "stdout",
     "output_type": "stream",
     "text": [
      "saylani\n"
     ]
    }
   ],
   "source": [
    "def print_func():\n",
    "    print(\"saylani\")\n",
    "print_func()    "
   ]
  },
  {
   "cell_type": "code",
   "execution_count": 81,
   "id": "48d26101-77d7-4067-8cda-f09dac542451",
   "metadata": {},
   "outputs": [
    {
     "name": "stdout",
     "output_type": "stream",
     "text": [
      "3\n"
     ]
    }
   ],
   "source": [
    "def sum_func():\n",
    "    print(1+2)\n",
    "sum_func()"
   ]
  },
  {
   "cell_type": "code",
   "execution_count": 82,
   "id": "2bba621d-c830-46ea-b41f-86a445e5186d",
   "metadata": {},
   "outputs": [
    {
     "name": "stdout",
     "output_type": "stream",
     "text": [
      "5\n"
     ]
    }
   ],
   "source": [
    "def add():\n",
    "    a=2\n",
    "    b=3\n",
    "    total=a+b\n",
    "    print(total)\n",
    "add()"
   ]
  },
  {
   "cell_type": "code",
   "execution_count": 85,
   "id": "b907990b-f42e-45e2-84fa-1649bc1dd12b",
   "metadata": {},
   "outputs": [
    {
     "name": "stdout",
     "output_type": "stream",
     "text": [
      "7\n"
     ]
    }
   ],
   "source": [
    "def add(a, b):\n",
    "    print(a+b)\n",
    "add(2,5)"
   ]
  },
  {
   "cell_type": "code",
   "execution_count": 86,
   "id": "d845fa97-850b-4dd1-b7fd-976271d3cc2b",
   "metadata": {},
   "outputs": [
    {
     "name": "stdout",
     "output_type": "stream",
     "text": [
      "110\n"
     ]
    }
   ],
   "source": [
    "add(66,44)"
   ]
  },
  {
   "cell_type": "markdown",
   "id": "527ce8fe-5028-4258-93c4-8d272698c501",
   "metadata": {},
   "source": [
    "#kelvin= Celsius+273.15"
   ]
  },
  {
   "cell_type": "code",
   "execution_count": 92,
   "id": "6180dc5b-612d-4900-9164-8587a38db91c",
   "metadata": {},
   "outputs": [],
   "source": [
    "def temp_kelvin(celsius, default_kelvin_value=273.15):\n",
    "    print(celsius+ default_kelvin_value)"
   ]
  },
  {
   "cell_type": "code",
   "execution_count": 93,
   "id": "fdfb4be0-2258-45ff-a76c-ce6a9f7f3c9e",
   "metadata": {},
   "outputs": [
    {
     "name": "stdout",
     "output_type": "stream",
     "text": [
      "318\n"
     ]
    }
   ],
   "source": [
    "temp_kelvin(45, 273)"
   ]
  },
  {
   "cell_type": "code",
   "execution_count": 94,
   "id": "bc20b714-e432-4032-a5d9-83832e5dfae1",
   "metadata": {},
   "outputs": [
    {
     "name": "stdout",
     "output_type": "stream",
     "text": [
      "318.15\n"
     ]
    }
   ],
   "source": [
    "temp_kelvin(45)"
   ]
  },
  {
   "cell_type": "code",
   "execution_count": 95,
   "id": "82091d4a-f57c-40f2-8d6f-57a962437650",
   "metadata": {},
   "outputs": [
    {
     "ename": "SyntaxError",
     "evalue": "non-default argument follows default argument (1385374386.py, line 1)",
     "output_type": "error",
     "traceback": [
      "\u001b[1;36m  Cell \u001b[1;32mIn[95], line 1\u001b[1;36m\u001b[0m\n\u001b[1;33m    def temp_kelvin(default_kelvin_value=273.15, celsius):\u001b[0m\n\u001b[1;37m                                                 ^\u001b[0m\n\u001b[1;31mSyntaxError\u001b[0m\u001b[1;31m:\u001b[0m non-default argument follows default argument\n"
     ]
    }
   ],
   "source": [
    "def temp_kelvin(default_kelvin_value=273.15, celsius):\n",
    "    print(celsius+ default_kelvin_value)"
   ]
  },
  {
   "cell_type": "code",
   "execution_count": 115,
   "id": "4a019ebc-b576-44a4-9686-985f9fddd95b",
   "metadata": {},
   "outputs": [],
   "source": [
    "def greetings(first_name, last_name, Greetings=\"Welcome\"):\n",
    "    print(f\"Hey, {first_name} {last_name} {Greetings}\")"
   ]
  },
  {
   "cell_type": "code",
   "execution_count": 116,
   "id": "2f41524d-89c1-4c14-afc6-804c7347e1c7",
   "metadata": {},
   "outputs": [
    {
     "name": "stdout",
     "output_type": "stream",
     "text": [
      "Hey, Yasir Ahmed Welcome\n"
     ]
    }
   ],
   "source": [
    "greetings(\"Yasir\",\"Ahmed\")"
   ]
  },
  {
   "cell_type": "markdown",
   "id": "56d62219-dcd1-49bb-a9be-6f169246b299",
   "metadata": {},
   "source": [
    "# END WITH CHAPTER 45"
   ]
  },
  {
   "cell_type": "code",
   "execution_count": null,
   "id": "2b17af59-13d0-45b5-ad2d-bb61b81de628",
   "metadata": {},
   "outputs": [],
   "source": []
  }
 ],
 "metadata": {
  "kernelspec": {
   "display_name": "Python 3 (ipykernel)",
   "language": "python",
   "name": "python3"
  },
  "language_info": {
   "codemirror_mode": {
    "name": "ipython",
    "version": 3
   },
   "file_extension": ".py",
   "mimetype": "text/x-python",
   "name": "python",
   "nbconvert_exporter": "python",
   "pygments_lexer": "ipython3",
   "version": "3.11.7"
  }
 },
 "nbformat": 4,
 "nbformat_minor": 5
}
