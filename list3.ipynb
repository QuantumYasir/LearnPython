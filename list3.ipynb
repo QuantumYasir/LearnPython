{
 "cells": [
  {
   "cell_type": "markdown",
   "id": "e6c62fe5-e8db-4b3d-baf4-1dfcc25cc023",
   "metadata": {},
   "source": [
    "### LIST\n",
    "Problem:Can't store similar type of variables"
   ]
  },
  {
   "cell_type": "markdown",
   "id": "a0fbdb87-eee9-4671-8f81-63b1d2fc6b9e",
   "metadata": {},
   "source": [
    "##Syntax of list:\n",
    "list_name=[value1,value2]"
   ]
  },
  {
   "cell_type": "code",
   "execution_count": 4,
   "id": "8be65381-e2ed-4b5a-b210-98e1cb1457eb",
   "metadata": {},
   "outputs": [
    {
     "name": "stdout",
     "output_type": "stream",
     "text": [
      "['Atlanta', 'Baltimore', 'Chicago', 'Denver', 'Los angeles', 'Seattle']\n"
     ]
    }
   ],
   "source": [
    "cities=[\"Atlanta\",\"Baltimore\",\"Chicago\",\"Denver\",\"Los angeles\",\"Seattle\"]\n",
    "print(cities)`"
   ]
  },
  {
   "cell_type": "code",
   "execution_count": 7,
   "id": "7e39c0b6-1664-4829-881e-f97fb0331ac0",
   "metadata": {},
   "outputs": [
    {
     "name": "stdout",
     "output_type": "stream",
     "text": [
      "<class 'list'>\n"
     ]
    }
   ],
   "source": [
    "print(type(cities))"
   ]
  },
  {
   "cell_type": "code",
   "execution_count": 9,
   "id": "8699e9fa-c157-450c-b9b7-f8dcb4d2f575",
   "metadata": {},
   "outputs": [
    {
     "data": {
      "text/plain": [
       "['Atlanta', 'Baltimore']"
      ]
     },
     "execution_count": 9,
     "metadata": {},
     "output_type": "execute_result"
    }
   ],
   "source": [
    "cities[0:2]"
   ]
  },
  {
   "cell_type": "code",
   "execution_count": 10,
   "id": "a9e22ba2-a039-421b-9519-d046fd25ec12",
   "metadata": {},
   "outputs": [
    {
     "data": {
      "text/plain": [
       "['Atlanta', 'Denver']"
      ]
     },
     "execution_count": 10,
     "metadata": {},
     "output_type": "execute_result"
    }
   ],
   "source": [
    "cities[0:5:3]"
   ]
  },
  {
   "cell_type": "code",
   "execution_count": 13,
   "id": "db839688-757b-440e-ac67-d54117acd7b4",
   "metadata": {},
   "outputs": [
    {
     "data": {
      "text/plain": [
       "['Denver', 'Los angeles']"
      ]
     },
     "execution_count": 13,
     "metadata": {},
     "output_type": "execute_result"
    }
   ],
   "source": [
    "cities[-3:-1]"
   ]
  },
  {
   "cell_type": "markdown",
   "id": "8b036c1d-0874-48a7-8ef8-19d948e0bbd9",
   "metadata": {},
   "source": [
    "## Taking slicing out of them"
   ]
  },
  {
   "cell_type": "markdown",
   "id": "6e2cf5a4-1449-4235-b9e2-3e8ea32bf1ab",
   "metadata": {},
   "source": [
    "# first include and last exclude in indexing []"
   ]
  },
  {
   "cell_type": "code",
   "execution_count": 14,
   "id": "2af9fa73-d2f7-4174-afce-361a11a8393c",
   "metadata": {},
   "outputs": [
    {
     "data": {
      "text/plain": [
       "['Denver', 'Los angeles', 'Seattle']"
      ]
     },
     "execution_count": 14,
     "metadata": {},
     "output_type": "execute_result"
    }
   ],
   "source": [
    "cities[-3:]"
   ]
  },
  {
   "cell_type": "code",
   "execution_count": 17,
   "id": "6fcc8140-e832-4d14-9ea0-8b638cc6421c",
   "metadata": {},
   "outputs": [
    {
     "data": {
      "text/plain": [
       "['Atlanta', 'Chicago', 'Los angeles']"
      ]
     },
     "execution_count": 17,
     "metadata": {},
     "output_type": "execute_result"
    }
   ],
   "source": [
    "cities[0:5:2]"
   ]
  },
  {
   "cell_type": "code",
   "execution_count": 18,
   "id": "c45fdbf1-3c94-46a5-a994-facd8733d08d",
   "metadata": {},
   "outputs": [
    {
     "data": {
      "text/plain": [
       "['Atlanta', 'Chicago', 'Los angeles']"
      ]
     },
     "execution_count": 18,
     "metadata": {},
     "output_type": "execute_result"
    }
   ],
   "source": [
    "cities[: :2]"
   ]
  },
  {
   "cell_type": "markdown",
   "id": "37011c45-fe9b-4766-86e1-c6af99f948a6",
   "metadata": {},
   "source": [
    "### reverse order"
   ]
  },
  {
   "cell_type": "code",
   "execution_count": 22,
   "id": "386c80b3-a9ef-4e54-b81a-8750a32b84a6",
   "metadata": {},
   "outputs": [
    {
     "data": {
      "text/plain": [
       "['Seattle', 'Los angeles', 'Denver', 'Chicago', 'Baltimore', 'Atlanta']"
      ]
     },
     "execution_count": 22,
     "metadata": {},
     "output_type": "execute_result"
    }
   ],
   "source": [
    "cities[::-1]"
   ]
  },
  {
   "cell_type": "markdown",
   "id": "13f3d2b1-4161-4d4f-a4f8-8ebd587168b8",
   "metadata": {},
   "source": [
    "### adding and inserting values"
   ]
  },
  {
   "cell_type": "markdown",
   "id": "f2bd719c-e25f-45c4-9e59-b0161d12cc93",
   "metadata": {},
   "source": [
    "### method1: Press citie.TAB to get intelligence regarding available functions"
   ]
  },
  {
   "cell_type": "code",
   "execution_count": 25,
   "id": "71614da1-e16d-430e-8cc1-8883ac7b26ca",
   "metadata": {},
   "outputs": [
    {
     "data": {
      "text/plain": [
       "['__add__',\n",
       " '__class__',\n",
       " '__class_getitem__',\n",
       " '__contains__',\n",
       " '__delattr__',\n",
       " '__delitem__',\n",
       " '__dir__',\n",
       " '__doc__',\n",
       " '__eq__',\n",
       " '__format__',\n",
       " '__ge__',\n",
       " '__getattribute__',\n",
       " '__getitem__',\n",
       " '__getstate__',\n",
       " '__gt__',\n",
       " '__hash__',\n",
       " '__iadd__',\n",
       " '__imul__',\n",
       " '__init__',\n",
       " '__init_subclass__',\n",
       " '__iter__',\n",
       " '__le__',\n",
       " '__len__',\n",
       " '__lt__',\n",
       " '__mul__',\n",
       " '__ne__',\n",
       " '__new__',\n",
       " '__reduce__',\n",
       " '__reduce_ex__',\n",
       " '__repr__',\n",
       " '__reversed__',\n",
       " '__rmul__',\n",
       " '__setattr__',\n",
       " '__setitem__',\n",
       " '__sizeof__',\n",
       " '__str__',\n",
       " '__subclasshook__',\n",
       " 'append',\n",
       " 'clear',\n",
       " 'copy',\n",
       " 'count',\n",
       " 'extend',\n",
       " 'index',\n",
       " 'insert',\n",
       " 'pop',\n",
       " 'remove',\n",
       " 'reverse',\n",
       " 'sort']"
      ]
     },
     "execution_count": 25,
     "metadata": {},
     "output_type": "execute_result"
    }
   ],
   "source": [
    "dir(cities) ### method2: to list the attributes (methods properties and other memeber )"
   ]
  },
  {
   "cell_type": "markdown",
   "id": "10fc83c3-f378-42e8-b296-6c9434d9a372",
   "metadata": {},
   "source": [
    "cities.append(\"New York City\") ## by default add value at the end of the list"
   ]
  },
  {
   "cell_type": "code",
   "execution_count": 27,
   "id": "ea3f8378-fdc0-4162-8897-ed50d0be3da2",
   "metadata": {},
   "outputs": [
    {
     "data": {
      "text/plain": [
       "['Atlanta',\n",
       " 'Baltimore',\n",
       " 'Chicago',\n",
       " 'Denver',\n",
       " 'Los angeles',\n",
       " 'Seattle',\n",
       " 'New York City']"
      ]
     },
     "execution_count": 27,
     "metadata": {},
     "output_type": "execute_result"
    }
   ],
   "source": [
    "cities"
   ]
  },
  {
   "cell_type": "code",
   "execution_count": 28,
   "id": "d26b58ab-9872-4f44-b80f-7c3e7190bb6e",
   "metadata": {},
   "outputs": [],
   "source": [
    "cities.append(\"Central City\")"
   ]
  },
  {
   "cell_type": "code",
   "execution_count": 29,
   "id": "2a725e49-36c1-423c-8aab-7046cc7350a1",
   "metadata": {},
   "outputs": [
    {
     "data": {
      "text/plain": [
       "['Atlanta',\n",
       " 'Baltimore',\n",
       " 'Chicago',\n",
       " 'Denver',\n",
       " 'Los angeles',\n",
       " 'Seattle',\n",
       " 'New York City',\n",
       " 'Central City']"
      ]
     },
     "execution_count": 29,
     "metadata": {},
     "output_type": "execute_result"
    }
   ],
   "source": [
    "cities"
   ]
  },
  {
   "cell_type": "code",
   "execution_count": 31,
   "id": "38de856b-517f-4b66-8da4-b9b050ab8181",
   "metadata": {},
   "outputs": [],
   "source": [
    "cities.insert(0, \"Texas\")"
   ]
  },
  {
   "cell_type": "code",
   "execution_count": 32,
   "id": "ea613d13-78cd-4581-983d-17714afb74f5",
   "metadata": {},
   "outputs": [
    {
     "data": {
      "text/plain": [
       "['Texas',\n",
       " 'Atlanta',\n",
       " 'Baltimore',\n",
       " 'Chicago',\n",
       " 'Denver',\n",
       " 'Los angeles',\n",
       " 'Seattle',\n",
       " 'New York City',\n",
       " 'Central City']"
      ]
     },
     "execution_count": 32,
     "metadata": {},
     "output_type": "execute_result"
    }
   ],
   "source": [
    "cities"
   ]
  },
  {
   "cell_type": "code",
   "execution_count": 34,
   "id": "c04a79a2-bd0c-4c37-9096-b406a17607bb",
   "metadata": {},
   "outputs": [
    {
     "data": {
      "text/plain": [
       "['Texas',\n",
       " 'Atlanta',\n",
       " 'Baltimore',\n",
       " 'Chicago',\n",
       " 'Denver',\n",
       " 'Los angeles',\n",
       " 'Seattle',\n",
       " 'New York City',\n",
       " 'Central City',\n",
       " 'Dallas']"
      ]
     },
     "execution_count": 34,
     "metadata": {},
     "output_type": "execute_result"
    }
   ],
   "source": [
    "cities + ['Dallas'] ### concatenation of list"
   ]
  },
  {
   "cell_type": "code",
   "execution_count": 36,
   "id": "eee248e5-f6c2-4026-9999-85739d568dd2",
   "metadata": {},
   "outputs": [],
   "source": [
    "cities=cities+['Dallas']"
   ]
  },
  {
   "cell_type": "code",
   "execution_count": 37,
   "id": "e7e0ad3c-80a3-447f-b57e-e7112ea80673",
   "metadata": {},
   "outputs": [
    {
     "data": {
      "text/plain": [
       "['Texas',\n",
       " 'Atlanta',\n",
       " 'Baltimore',\n",
       " 'Chicago',\n",
       " 'Denver',\n",
       " 'Los angeles',\n",
       " 'Seattle',\n",
       " 'New York City',\n",
       " 'Central City',\n",
       " 'Dallas',\n",
       " 'Dallas']"
      ]
     },
     "execution_count": 37,
     "metadata": {},
     "output_type": "execute_result"
    }
   ],
   "source": [
    "cities"
   ]
  },
  {
   "cell_type": "markdown",
   "id": "eb6c093c-0bb7-4728-ab93-3e04fa99add4",
   "metadata": {},
   "source": [
    "### Deleting and Removing"
   ]
  },
  {
   "cell_type": "code",
   "execution_count": 38,
   "id": "13bf5a83-5f4a-4cba-a0c4-1823a1c739b8",
   "metadata": {},
   "outputs": [],
   "source": [
    "cities.remove(\"Seattle\")"
   ]
  },
  {
   "cell_type": "code",
   "execution_count": 41,
   "id": "97531305-b234-4de7-a5df-db367529366f",
   "metadata": {},
   "outputs": [
    {
     "data": {
      "text/plain": [
       "['Texas',\n",
       " 'Atlanta',\n",
       " 'Baltimore',\n",
       " 'Chicago',\n",
       " 'Denver',\n",
       " 'Los angeles',\n",
       " 'New York City',\n",
       " 'Central City',\n",
       " 'Dallas',\n",
       " 'Dallas']"
      ]
     },
     "execution_count": 41,
     "metadata": {},
     "output_type": "execute_result"
    }
   ],
   "source": [
    "cities"
   ]
  },
  {
   "cell_type": "code",
   "execution_count": 42,
   "id": "07b32698-a884-4358-831b-b461e41a8071",
   "metadata": {},
   "outputs": [],
   "source": [
    "del(cities[0])"
   ]
  },
  {
   "cell_type": "code",
   "execution_count": 43,
   "id": "c79e4219-cb7b-42bd-a4b4-887d8b4b4b5c",
   "metadata": {},
   "outputs": [
    {
     "data": {
      "text/plain": [
       "['Atlanta',\n",
       " 'Baltimore',\n",
       " 'Chicago',\n",
       " 'Denver',\n",
       " 'Los angeles',\n",
       " 'New York City',\n",
       " 'Central City',\n",
       " 'Dallas',\n",
       " 'Dallas']"
      ]
     },
     "execution_count": 43,
     "metadata": {},
     "output_type": "execute_result"
    }
   ],
   "source": [
    "cities"
   ]
  },
  {
   "cell_type": "markdown",
   "id": "75e35db4-968f-4f2f-8ac0-4e53c33aab7d",
   "metadata": {},
   "source": [
    "## Popping values from list\n",
    "## Values get removed from list and store in variable"
   ]
  },
  {
   "cell_type": "code",
   "execution_count": 44,
   "id": "3ef32704-136f-489e-880c-c75e1be9a63c",
   "metadata": {},
   "outputs": [],
   "source": [
    "holding_pop_city=cities.pop() "
   ]
  },
  {
   "cell_type": "code",
   "execution_count": 45,
   "id": "98ea7aff-1c9f-403b-b76d-c61941937fbd",
   "metadata": {},
   "outputs": [
    {
     "data": {
      "text/plain": [
       "'Dallas'"
      ]
     },
     "execution_count": 45,
     "metadata": {},
     "output_type": "execute_result"
    }
   ],
   "source": [
    "holding_pop_city"
   ]
  },
  {
   "cell_type": "code",
   "execution_count": 46,
   "id": "32726fa8-a7e8-4e96-8be7-7036744c481a",
   "metadata": {},
   "outputs": [],
   "source": [
    "holding_pop_city=cities.pop(2)"
   ]
  },
  {
   "cell_type": "code",
   "execution_count": 47,
   "id": "85127ede-d2ee-4aba-93df-ce8084b7fcac",
   "metadata": {},
   "outputs": [
    {
     "data": {
      "text/plain": [
       "['Atlanta',\n",
       " 'Baltimore',\n",
       " 'Denver',\n",
       " 'Los angeles',\n",
       " 'New York City',\n",
       " 'Central City',\n",
       " 'Dallas']"
      ]
     },
     "execution_count": 47,
     "metadata": {},
     "output_type": "execute_result"
    }
   ],
   "source": [
    "cities"
   ]
  },
  {
   "cell_type": "code",
   "execution_count": 48,
   "id": "ce0b6b03-341f-4cc2-8825-7a06998eefa1",
   "metadata": {},
   "outputs": [
    {
     "data": {
      "text/plain": [
       "'Chicago'"
      ]
     },
     "execution_count": 48,
     "metadata": {},
     "output_type": "execute_result"
    }
   ],
   "source": [
    "holding_pop_city"
   ]
  },
  {
   "cell_type": "code",
   "execution_count": 49,
   "id": "4db4a985-df7b-43cb-976e-de93eace9293",
   "metadata": {},
   "outputs": [],
   "source": [
    "tasks=[\"prayFajar\",\"running\",\"Breakfast\",\"studying\"]\n",
    "tasks_done=[]"
   ]
  },
  {
   "cell_type": "code",
   "execution_count": 50,
   "id": "1697b34a-7858-4f4b-bb83-0b8b08e32eb1",
   "metadata": {},
   "outputs": [],
   "source": [
    "tasks_done.append(tasks.pop(0))"
   ]
  },
  {
   "cell_type": "code",
   "execution_count": 51,
   "id": "ef471ba5-4dce-402d-978c-9edab823cfa4",
   "metadata": {},
   "outputs": [
    {
     "data": {
      "text/plain": [
       "['running', 'Breakfast', 'studying']"
      ]
     },
     "execution_count": 51,
     "metadata": {},
     "output_type": "execute_result"
    }
   ],
   "source": [
    "tasks"
   ]
  },
  {
   "cell_type": "code",
   "execution_count": 52,
   "id": "2969d1bc-b499-4da0-a039-709ada9db5f8",
   "metadata": {},
   "outputs": [
    {
     "data": {
      "text/plain": [
       "['prayFajar']"
      ]
     },
     "execution_count": 52,
     "metadata": {},
     "output_type": "execute_result"
    }
   ],
   "source": [
    "tasks_done"
   ]
  },
  {
   "cell_type": "markdown",
   "id": "3bd1fb9a-6e00-4b30-bb00-3abd12f874a4",
   "metadata": {},
   "source": [
    "#### Extras methods"
   ]
  },
  {
   "cell_type": "code",
   "execution_count": 55,
   "id": "77afd748-70e5-4e9e-866d-e3734de0d154",
   "metadata": {},
   "outputs": [],
   "source": [
    "tasks_done.clear() ## remove all values from list and made it empty list"
   ]
  },
  {
   "cell_type": "markdown",
   "id": "cceefae3-ecf0-433a-b561-dd54bc690922",
   "metadata": {},
   "source": [
    "### Shallow Copy\n",
    "### -Referencing the same original\n",
    "### -Changing in original can affect the copy\n",
    "### Deep copy:\n",
    "### -create seperate copy of the object\n",
    "### -changing in original cant affect the copy"
   ]
  },
  {
   "cell_type": "code",
   "execution_count": 54,
   "id": "b1415e5c-9c31-4a22-9800-809010236db3",
   "metadata": {},
   "outputs": [
    {
     "data": {
      "text/plain": [
       "[]"
      ]
     },
     "execution_count": 54,
     "metadata": {},
     "output_type": "execute_result"
    }
   ],
   "source": [
    "tasks_done"
   ]
  },
  {
   "cell_type": "code",
   "execution_count": 58,
   "id": "b2e82a15-aa73-40a2-8838-a67d7ef52de4",
   "metadata": {},
   "outputs": [],
   "source": [
    "todolist=tasks.copy()"
   ]
  },
  {
   "cell_type": "code",
   "execution_count": 59,
   "id": "093b50a6-af62-40d7-996b-41e7892c64ed",
   "metadata": {},
   "outputs": [],
   "source": [
    "tasks.append(\"Shopping\")"
   ]
  },
  {
   "cell_type": "code",
   "execution_count": 60,
   "id": "79fb32f9-6ca4-4529-a220-820c2169a7ab",
   "metadata": {},
   "outputs": [
    {
     "data": {
      "text/plain": [
       "['running', 'Breakfast', 'studying', 'Shopping']"
      ]
     },
     "execution_count": 60,
     "metadata": {},
     "output_type": "execute_result"
    }
   ],
   "source": [
    "tasks"
   ]
  },
  {
   "cell_type": "code",
   "execution_count": 61,
   "id": "ef85380e-e136-4009-abbb-7523f81db2bc",
   "metadata": {},
   "outputs": [
    {
     "data": {
      "text/plain": [
       "['running', 'Breakfast', 'studying']"
      ]
     },
     "execution_count": 61,
     "metadata": {},
     "output_type": "execute_result"
    }
   ],
   "source": [
    "todolist"
   ]
  },
  {
   "cell_type": "code",
   "execution_count": null,
   "id": "0988dce2-e71b-41bc-accb-52583a6172c9",
   "metadata": {},
   "outputs": [],
   "source": []
  }
 ],
 "metadata": {
  "kernelspec": {
   "display_name": "Python 3 (ipykernel)",
   "language": "python",
   "name": "python3"
  },
  "language_info": {
   "codemirror_mode": {
    "name": "ipython",
    "version": 3
   },
   "file_extension": ".py",
   "mimetype": "text/x-python",
   "name": "python",
   "nbconvert_exporter": "python",
   "pygments_lexer": "ipython3",
   "version": "3.11.7"
  }
 },
 "nbformat": 4,
 "nbformat_minor": 5
}
